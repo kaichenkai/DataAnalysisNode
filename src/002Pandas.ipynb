{
 "cells": [
  {
   "cell_type": "markdown",
   "id": "ed9d0ae3",
   "metadata": {},
   "source": [
    "## Pandas"
   ]
  },
  {
   "cell_type": "markdown",
   "id": "0b161b12",
   "metadata": {},
   "source": [
    "Pandas是Wes McKinney在2008年开发的一个强大的分析结构化数据的工具集。Pandas以NumPy为基础（数据表示和运算），提供了用于数据处理的函数和方法，对数据分析和数据挖掘提供了很好的支持；同时Pandas还可以跟数据可视化工具Matplotlib很好的整合在一起，非常轻松愉快的实现数据的可视化展示。\n",
    "\n",
    "Pandas核心的数据类型是Series（数据系列）、DataFrame（数据表/数据框），分别用于处理一维和二维的数据，除此之外还有一个名为Index的类型及其子类型，它为Series和DataFrame提供了索引功能。日常工作中以DataFrame使用最为广泛，因为二维的数据本质就是一个有行有列的表格（想一想Excel电子表格和关系型数据库中的二维表）。上述这些类型都提供了大量的处理数据的方法，数据分析师可以以此为基础实现对数据的各种常规处理。"
   ]
  },
  {
   "cell_type": "markdown",
   "id": "e00f6ccb",
   "metadata": {},
   "source": [
    "### Series"
   ]
  },
  {
   "cell_type": "markdown",
   "id": "2380a4db",
   "metadata": {},
   "source": [
    "Pandas库中的Series对象可以用来表示一维数据结构，跟数组非常类似，但是多了一些额外的功能。Series的内部结构包含了两个数组，其中一个用来保存数据，另一个用来保存数据的索引。"
   ]
  },
  {
   "cell_type": "markdown",
   "id": "b82b1081",
   "metadata": {},
   "source": [
    "#### 创建Series对象"
   ]
  },
  {
   "cell_type": "code",
   "execution_count": 1,
   "id": "9c94332a",
   "metadata": {},
   "outputs": [],
   "source": [
    "# 导入依赖\n",
    "import numpy as np\n",
    "import pandas as pd\n",
    "import matplotlib.pyplot as plt"
   ]
  },
  {
   "cell_type": "code",
   "execution_count": 2,
   "id": "ae021006",
   "metadata": {},
   "outputs": [
    {
     "data": {
      "text/plain": [
       "一季度    320\n",
       "二季度    180\n",
       "三季度    300\n",
       "四季度    405\n",
       "dtype: int64"
      ]
     },
     "execution_count": 2,
     "metadata": {},
     "output_type": "execute_result"
    }
   ],
   "source": [
    "# 通过列表创建\n",
    "# data参数表示数据，index参数表示数据的索引（标签）\n",
    "# 如果没有指定index属性，默认使用数字索引\n",
    "ser1 = pd.Series(data=[320, 180, 300, 405], index=['一季度', '二季度', '三季度', '四季度'])\n",
    "ser1"
   ]
  },
  {
   "cell_type": "code",
   "execution_count": 3,
   "id": "bd1430a3",
   "metadata": {},
   "outputs": [
    {
     "data": {
      "text/plain": [
       "一季度    320\n",
       "二季度    180\n",
       "三季度    300\n",
       "四季度    405\n",
       "dtype: int64"
      ]
     },
     "execution_count": 3,
     "metadata": {},
     "output_type": "execute_result"
    }
   ],
   "source": [
    "# 通过字典创建\n",
    "# 字典中的键就是数据的索引（标签），字典中的值就是数据\n",
    "ser2 = pd.Series({'一季度': 320, '二季度': 180, '三季度': 300, '四季度': 405})\n",
    "ser2"
   ]
  },
  {
   "cell_type": "markdown",
   "id": "4ac89879",
   "metadata": {},
   "source": [
    "#### 索引和切片"
   ]
  },
  {
   "cell_type": "markdown",
   "id": "70eead52",
   "metadata": {},
   "source": [
    "跟列表一样，Series对象也可以进行索引和切片操作，不同的是Series对象因为内部维护了一个保存索引的数组，所以除了可以使用默认索引（从0开始）检索数据外，还可以通过自己设置的索引标签获取对应的数据。"
   ]
  },
  {
   "cell_type": "code",
   "execution_count": 4,
   "id": "b8c72d9f",
   "metadata": {},
   "outputs": [
    {
     "name": "stdout",
     "output_type": "stream",
     "text": [
      "320 180 405\n"
     ]
    },
    {
     "data": {
      "text/plain": [
       "一季度    350\n",
       "二季度    180\n",
       "三季度    300\n",
       "四季度    360\n",
       "dtype: int64"
      ]
     },
     "execution_count": 4,
     "metadata": {},
     "output_type": "execute_result"
    }
   ],
   "source": [
    "# 使用默认索引检索数据\n",
    "print(ser2[0], ser2[1], ser2[-1])\n",
    "\n",
    "# 修改数据\n",
    "ser2[0], ser2[3] = 350, 360\n",
    "ser2"
   ]
  },
  {
   "cell_type": "code",
   "execution_count": 5,
   "id": "f224c2ca",
   "metadata": {},
   "outputs": [
    {
     "name": "stdout",
     "output_type": "stream",
     "text": [
      "350 300\n"
     ]
    },
    {
     "data": {
      "text/plain": [
       "一季度    380\n",
       "二季度    180\n",
       "三季度    300\n",
       "四季度    360\n",
       "dtype: int64"
      ]
     },
     "execution_count": 5,
     "metadata": {},
     "output_type": "execute_result"
    }
   ],
   "source": [
    "# 使用自定义的标签索引\n",
    "print(ser2['一季度'], ser2['三季度'])\n",
    "ser2['一季度'] = 380\n",
    "ser2"
   ]
  },
  {
   "cell_type": "markdown",
   "id": "fe554406",
   "metadata": {},
   "source": [
    "#### 切片操作"
   ]
  },
  {
   "cell_type": "code",
   "execution_count": 6,
   "id": "3eaf56db",
   "metadata": {},
   "outputs": [
    {
     "data": {
      "text/plain": [
       "二季度    180\n",
       "三季度    300\n",
       "dtype: int64"
      ]
     },
     "execution_count": 6,
     "metadata": {},
     "output_type": "execute_result"
    }
   ],
   "source": [
    "ser2[1:3]"
   ]
  },
  {
   "cell_type": "code",
   "execution_count": 7,
   "id": "75896ada",
   "metadata": {},
   "outputs": [
    {
     "data": {
      "text/plain": [
       "二季度    180\n",
       "三季度    300\n",
       "四季度    360\n",
       "dtype: int64"
      ]
     },
     "execution_count": 7,
     "metadata": {},
     "output_type": "execute_result"
    }
   ],
   "source": [
    "ser2['二季度':'四季度']"
   ]
  },
  {
   "cell_type": "code",
   "execution_count": 8,
   "id": "5134527a",
   "metadata": {},
   "outputs": [
    {
     "data": {
      "text/plain": [
       "一季度    380\n",
       "二季度    400\n",
       "三季度    500\n",
       "四季度    360\n",
       "dtype: int64"
      ]
     },
     "execution_count": 8,
     "metadata": {},
     "output_type": "execute_result"
    }
   ],
   "source": [
    "ser2[1:3] = 400, 500\n",
    "ser2"
   ]
  },
  {
   "cell_type": "markdown",
   "id": "c354b702",
   "metadata": {},
   "source": [
    "#### 花式索引"
   ]
  },
  {
   "cell_type": "code",
   "execution_count": 9,
   "id": "15042ee3",
   "metadata": {},
   "outputs": [
    {
     "data": {
      "text/plain": [
       "二季度    400\n",
       "四季度    360\n",
       "dtype: int64"
      ]
     },
     "execution_count": 9,
     "metadata": {},
     "output_type": "execute_result"
    }
   ],
   "source": [
    "ser2[[\"二季度\", \"四季度\"]]"
   ]
  },
  {
   "cell_type": "code",
   "execution_count": 10,
   "id": "a71e1045",
   "metadata": {},
   "outputs": [
    {
     "data": {
      "text/plain": [
       "一季度    380\n",
       "二季度    500\n",
       "三季度    500\n",
       "四季度    520\n",
       "dtype: int64"
      ]
     },
     "execution_count": 10,
     "metadata": {},
     "output_type": "execute_result"
    }
   ],
   "source": [
    "ser2[[\"二季度\", \"四季度\"]] = 500, 520\n",
    "ser2"
   ]
  },
  {
   "cell_type": "markdown",
   "id": "0318fd3e",
   "metadata": {},
   "source": [
    "#### 布尔索引"
   ]
  },
  {
   "cell_type": "code",
   "execution_count": 11,
   "id": "0e22c0f8",
   "metadata": {},
   "outputs": [
    {
     "data": {
      "text/plain": [
       "二季度    500\n",
       "三季度    500\n",
       "四季度    520\n",
       "dtype: int64"
      ]
     },
     "execution_count": 11,
     "metadata": {},
     "output_type": "execute_result"
    }
   ],
   "source": [
    "ser2[ser2 >= 500]"
   ]
  },
  {
   "cell_type": "markdown",
   "id": "e50a1d86",
   "metadata": {},
   "source": [
    "#### 属性和方法"
   ]
  },
  {
   "cell_type": "markdown",
   "id": "fae8d4cd",
   "metadata": {},
   "source": [
    "Series对象的常用属性如下表所示。"
   ]
  },
  {
   "cell_type": "markdown",
   "id": "401bdde2",
   "metadata": {},
   "source": [
    "\n",
    "\n",
    "| 属性                      | 说明                                    |\n",
    "| ------------------------- | --------------------------------------- |\n",
    "| `dtype` / `dtypes`        | 返回`Series`对象的数据类型              |\n",
    "| `hasnans`                 | 判断`Series`对象中有没有空值            |\n",
    "| `at` / `iat`              | 通过索引访问`Series`对象中的单个值      |\n",
    "| `loc` / `iloc`            | 通过一组索引访问`Series`对象中的一组值  |\n",
    "| `index`                   | 返回`Series`对象的索引                  |\n",
    "| `is_monotonic`            | 判断`Series`对象中的数据是否单调        |\n",
    "| `is_monotonic_increasing` | 判断`Series`对象中的数据是否单调递增    |\n",
    "| `is_monotonic_decreasing` | 判断`Series`对象中的数据是否单调递减    |\n",
    "| `is_unique`               | 判断`Series`对象中的数据是否独一无二    |\n",
    "| `size`                    | 返回`Series`对象中元素的个数            |\n",
    "| `values`                  | 以`ndarray`的方式返回`Series`对象中的值 |"
   ]
  },
  {
   "cell_type": "markdown",
   "id": "3c43a7f6",
   "metadata": {},
   "source": [
    "Series对象的方法很多，我们通过下面的代码为大家介绍一些常用的方法。"
   ]
  },
  {
   "cell_type": "markdown",
   "id": "e46e32a0",
   "metadata": {},
   "source": [
    "#### 统计相关的方法"
   ]
  },
  {
   "cell_type": "code",
   "execution_count": 12,
   "id": "ed228527",
   "metadata": {},
   "outputs": [
    {
     "name": "stdout",
     "output_type": "stream",
     "text": [
      "1900\n",
      "475.0\n",
      "520\n",
      "380\n",
      "4\n",
      "64.03124237432849\n",
      "4100.0\n",
      "500.0\n"
     ]
    }
   ],
   "source": [
    "# Series对象支持各种获取描述性统计信息的方法。\n",
    "\n",
    "# 求和\n",
    "print(ser2.sum())\n",
    "# 求均值\n",
    "print(ser2.mean())\n",
    "# 求最大\n",
    "print(ser2.max())\n",
    "# 求最小\n",
    "print(ser2.min())\n",
    "# 计数\n",
    "print(ser2.count())\n",
    "# 求标准差\n",
    "print(ser2.std())\n",
    "# 求方差\n",
    "print(ser2.var())\n",
    "# 求中位数\n",
    "print(ser2.median())"
   ]
  },
  {
   "cell_type": "code",
   "execution_count": 13,
   "id": "51e81793",
   "metadata": {},
   "outputs": [
    {
     "data": {
      "text/plain": [
       "count      4.000000\n",
       "mean     475.000000\n",
       "std       64.031242\n",
       "min      380.000000\n",
       "25%      470.000000\n",
       "50%      500.000000\n",
       "75%      505.000000\n",
       "max      520.000000\n",
       "dtype: float64"
      ]
     },
     "execution_count": 13,
     "metadata": {},
     "output_type": "execute_result"
    }
   ],
   "source": [
    "# Series对象还有一个名为describe()的方法，可以获得上述所有的描述性统计信息\n",
    "ser2.describe()"
   ]
  },
  {
   "cell_type": "markdown",
   "id": "f0b980dd",
   "metadata": {},
   "source": [
    "提示：因为describe()返回的也是一个Series对象，所以也可以用ser2.describe()['mean']来获取平均值。"
   ]
  },
  {
   "cell_type": "markdown",
   "id": "0f6e975d",
   "metadata": {},
   "source": [
    "如果Series对象有重复的值，我们可以使用unique()方法获得去重之后的Series对象；可以使用nunique()方法统计不重复值的数量；如果想要统计每个值重复的次数，可以使用value_counts()方法，这个方法会返回一个Series对象，它的索引就是原来的Series对象中的值，而每个值出现的次数就是返回的Series对象中的数据，在默认情况下会按照出现次数做降序排列。"
   ]
  },
  {
   "cell_type": "code",
   "execution_count": 14,
   "id": "4a8f0b69",
   "metadata": {},
   "outputs": [
    {
     "data": {
      "text/plain": [
       "apple     3\n",
       "pitaya    2\n",
       "banana    1\n",
       "durian    1\n",
       "dtype: int64"
      ]
     },
     "execution_count": 14,
     "metadata": {},
     "output_type": "execute_result"
    }
   ],
   "source": [
    "ser3 = pd.Series(data=['apple', 'banana', 'apple', 'pitaya', 'apple', 'pitaya', 'durian'])\n",
    "ser3.value_counts()"
   ]
  },
  {
   "cell_type": "code",
   "execution_count": 15,
   "id": "1301ee80",
   "metadata": {},
   "outputs": [
    {
     "data": {
      "text/plain": [
       "4"
      ]
     },
     "execution_count": 15,
     "metadata": {},
     "output_type": "execute_result"
    }
   ],
   "source": [
    "ser3.nunique()"
   ]
  },
  {
   "cell_type": "markdown",
   "id": "e0d367c6",
   "metadata": {},
   "source": [
    "#### 数据处理的方法"
   ]
  },
  {
   "cell_type": "markdown",
   "id": "71ffbb80",
   "metadata": {},
   "source": [
    "Series对象的isnull()和notnull()方法可以用于空值的判断"
   ]
  },
  {
   "cell_type": "code",
   "execution_count": 16,
   "id": "bbcba61f",
   "metadata": {},
   "outputs": [
    {
     "data": {
      "text/plain": [
       "0    False\n",
       "1    False\n",
       "2     True\n",
       "3    False\n",
       "4     True\n",
       "dtype: bool"
      ]
     },
     "execution_count": 16,
     "metadata": {},
     "output_type": "execute_result"
    }
   ],
   "source": [
    "ser4 = pd.Series(data=[10, 20, np.NaN, 30, np.NaN])\n",
    "ser4.isnull()"
   ]
  },
  {
   "cell_type": "code",
   "execution_count": 17,
   "id": "676f4ca0",
   "metadata": {},
   "outputs": [
    {
     "data": {
      "text/plain": [
       "0     True\n",
       "1     True\n",
       "2    False\n",
       "3     True\n",
       "4    False\n",
       "dtype: bool"
      ]
     },
     "execution_count": 17,
     "metadata": {},
     "output_type": "execute_result"
    }
   ],
   "source": [
    "ser4.notnull()"
   ]
  },
  {
   "cell_type": "markdown",
   "id": "c722a403",
   "metadata": {},
   "source": [
    "Series对象的dropna()和fillna()方法分别用来删除空值和填充空值"
   ]
  },
  {
   "cell_type": "code",
   "execution_count": 18,
   "id": "08a010c2",
   "metadata": {},
   "outputs": [
    {
     "data": {
      "text/plain": [
       "0    10.0\n",
       "1    20.0\n",
       "3    30.0\n",
       "dtype: float64"
      ]
     },
     "execution_count": 18,
     "metadata": {},
     "output_type": "execute_result"
    }
   ],
   "source": [
    "ser4.dropna()"
   ]
  },
  {
   "cell_type": "code",
   "execution_count": 19,
   "id": "4322b662",
   "metadata": {},
   "outputs": [
    {
     "data": {
      "text/plain": [
       "0    10.0\n",
       "1    20.0\n",
       "2    40.0\n",
       "3    30.0\n",
       "4    40.0\n",
       "dtype: float64"
      ]
     },
     "execution_count": 19,
     "metadata": {},
     "output_type": "execute_result"
    }
   ],
   "source": [
    "# 将空值填充为40\n",
    "ser4.fillna(value=40)"
   ]
  },
  {
   "cell_type": "markdown",
   "id": "de61f2b7",
   "metadata": {},
   "source": [
    "需要提醒大家注意的是，dropna()和fillna()方法都有一个名为inplace的参数，它的默认值是False，表示删除空值或填充空值不会修改原来的Series对象，而是返回一个新的Series对象来表示删除或填充空值后的数据系列，如果将inplace参数的值修改为True，那么删除或填充空值会就地操作，直接修改原来的Series对象，那么方法的返回值是None。后面我们会接触到的很多方法，包括DataFrame对象的很多方法都会有这个参数，它们的意义跟这里是一样的。"
   ]
  },
  {
   "cell_type": "code",
   "execution_count": 20,
   "id": "a6845a12",
   "metadata": {},
   "outputs": [
    {
     "data": {
      "text/plain": [
       "0    10.0\n",
       "1    20.0\n",
       "2    30.0\n",
       "3    30.0\n",
       "4     NaN\n",
       "dtype: float64"
      ]
     },
     "execution_count": 20,
     "metadata": {},
     "output_type": "execute_result"
    }
   ],
   "source": [
    "# backfill或bfill表示用后一个元素的值填充空值\n",
    "# ffill或pad表示用前一个元素的值填充空值\n",
    "ser4.fillna(method='bfill')"
   ]
  },
  {
   "cell_type": "code",
   "execution_count": 21,
   "id": "a9326486",
   "metadata": {},
   "outputs": [
    {
     "data": {
      "text/plain": [
       "0    10.0\n",
       "1    20.0\n",
       "2    20.0\n",
       "3    30.0\n",
       "4    30.0\n",
       "dtype: float64"
      ]
     },
     "execution_count": 21,
     "metadata": {},
     "output_type": "execute_result"
    }
   ],
   "source": [
    "ser4.fillna(method='ffill')"
   ]
  },
  {
   "cell_type": "markdown",
   "id": "76f99fc0",
   "metadata": {},
   "source": [
    "Series对象的mask()和where()方法可以将满足或不满足条件的值进行替换，如下所示。"
   ]
  },
  {
   "cell_type": "code",
   "execution_count": 22,
   "id": "53c5d94c",
   "metadata": {},
   "outputs": [
    {
     "data": {
      "text/plain": [
       "0    NaN\n",
       "1    1.0\n",
       "2    2.0\n",
       "3    3.0\n",
       "4    4.0\n",
       "dtype: float64"
      ]
     },
     "execution_count": 22,
     "metadata": {},
     "output_type": "execute_result"
    }
   ],
   "source": [
    "ser5 = pd.Series(range(5))\n",
    "ser5.where(ser5>0)"
   ]
  },
  {
   "cell_type": "code",
   "execution_count": 23,
   "id": "2f5b9b8b",
   "metadata": {},
   "outputs": [
    {
     "data": {
      "text/plain": [
       "0    10\n",
       "1     1\n",
       "2     2\n",
       "3     3\n",
       "4     4\n",
       "dtype: int64"
      ]
     },
     "execution_count": 23,
     "metadata": {},
     "output_type": "execute_result"
    }
   ],
   "source": [
    "ser5.where(ser5>0, 10)"
   ]
  },
  {
   "cell_type": "code",
   "execution_count": 24,
   "id": "1aaea790",
   "metadata": {},
   "outputs": [
    {
     "data": {
      "text/plain": [
       "0     0\n",
       "1    10\n",
       "2    10\n",
       "3    10\n",
       "4    10\n",
       "dtype: int64"
      ]
     },
     "execution_count": 24,
     "metadata": {},
     "output_type": "execute_result"
    }
   ],
   "source": [
    "ser5.mask(ser5>0, 10)"
   ]
  },
  {
   "cell_type": "markdown",
   "id": "dddb3bcb",
   "metadata": {},
   "source": [
    "Series对象的duplicated()方法可以帮助我们找出重复的数据，而drop_duplicates()方法可以帮我们删除重复数据。"
   ]
  },
  {
   "cell_type": "code",
   "execution_count": 25,
   "id": "88786890",
   "metadata": {},
   "outputs": [
    {
     "data": {
      "text/plain": [
       "0     apple\n",
       "1    banana\n",
       "2     apple\n",
       "3    pitaya\n",
       "4     apple\n",
       "5    pitaya\n",
       "6    durian\n",
       "dtype: object"
      ]
     },
     "execution_count": 25,
     "metadata": {},
     "output_type": "execute_result"
    }
   ],
   "source": [
    "ser3"
   ]
  },
  {
   "cell_type": "code",
   "execution_count": 26,
   "id": "aa10e326",
   "metadata": {},
   "outputs": [
    {
     "data": {
      "text/plain": [
       "0    False\n",
       "1    False\n",
       "2     True\n",
       "3    False\n",
       "4     True\n",
       "5     True\n",
       "6    False\n",
       "dtype: bool"
      ]
     },
     "execution_count": 26,
     "metadata": {},
     "output_type": "execute_result"
    }
   ],
   "source": [
    "ser3.duplicated()"
   ]
  },
  {
   "cell_type": "code",
   "execution_count": 27,
   "id": "3f08391a",
   "metadata": {},
   "outputs": [
    {
     "data": {
      "text/plain": [
       "0     apple\n",
       "1    banana\n",
       "3    pitaya\n",
       "6    durian\n",
       "dtype: object"
      ]
     },
     "execution_count": 27,
     "metadata": {},
     "output_type": "execute_result"
    }
   ],
   "source": [
    "ser3.drop_duplicates()"
   ]
  },
  {
   "cell_type": "markdown",
   "id": "852db0c2",
   "metadata": {},
   "source": [
    "Series对象的map()和apply()方法非常重要，它们可以用于数据处理，把数据映射或转换成我们期望的样子，这个操作在数据分析的数据准备阶段非常重要。"
   ]
  },
  {
   "cell_type": "code",
   "execution_count": 28,
   "id": "10a27f8a",
   "metadata": {},
   "outputs": [
    {
     "data": {
      "text/plain": [
       "0       cat\n",
       "1       dog\n",
       "2       NaN\n",
       "3    rabbit\n",
       "dtype: object"
      ]
     },
     "execution_count": 28,
     "metadata": {},
     "output_type": "execute_result"
    }
   ],
   "source": [
    "ser6 = pd.Series(['cat', 'dog', np.nan, 'rabbit'])\n",
    "ser6"
   ]
  },
  {
   "cell_type": "code",
   "execution_count": 29,
   "id": "1d7c2adb",
   "metadata": {},
   "outputs": [
    {
     "data": {
      "text/plain": [
       "0    kitten\n",
       "1     puppy\n",
       "2       NaN\n",
       "3       NaN\n",
       "dtype: object"
      ]
     },
     "execution_count": 29,
     "metadata": {},
     "output_type": "execute_result"
    }
   ],
   "source": [
    "ser6.map({'cat': \"kitten\", \"dog\": \"puppy\"})"
   ]
  },
  {
   "cell_type": "code",
   "execution_count": 30,
   "id": "188d843d",
   "metadata": {},
   "outputs": [
    {
     "data": {
      "text/plain": [
       "0       I am a cat\n",
       "1       I am a dog\n",
       "2              NaN\n",
       "3    I am a rabbit\n",
       "dtype: object"
      ]
     },
     "execution_count": 30,
     "metadata": {},
     "output_type": "execute_result"
    }
   ],
   "source": [
    "ser6.map(\"I am a {}\".format, na_action=\"ignore\")"
   ]
  },
  {
   "cell_type": "code",
   "execution_count": 31,
   "id": "acec3d45",
   "metadata": {},
   "outputs": [
    {
     "data": {
      "text/plain": [
       "London      20\n",
       "New York    21\n",
       "Helsinki    12\n",
       "dtype: int64"
      ]
     },
     "execution_count": 31,
     "metadata": {},
     "output_type": "execute_result"
    }
   ],
   "source": [
    "ser7 = pd.Series([20, 21, 12], index=[\"London\", \"New York\", \"Helsinki\"])\n",
    "ser7"
   ]
  },
  {
   "cell_type": "code",
   "execution_count": 32,
   "id": "c19ee21d",
   "metadata": {},
   "outputs": [
    {
     "data": {
      "text/plain": [
       "London      400\n",
       "New York    441\n",
       "Helsinki    144\n",
       "dtype: int64"
      ]
     },
     "execution_count": 32,
     "metadata": {},
     "output_type": "execute_result"
    }
   ],
   "source": [
    "ser7.apply(np.square)"
   ]
  },
  {
   "cell_type": "code",
   "execution_count": 33,
   "id": "d1ddc2e0",
   "metadata": {},
   "outputs": [
    {
     "data": {
      "text/plain": [
       "London      15\n",
       "New York    16\n",
       "Helsinki     7\n",
       "dtype: int64"
      ]
     },
     "execution_count": 33,
     "metadata": {},
     "output_type": "execute_result"
    }
   ],
   "source": [
    "ser7.apply(lambda x, value: x - value, args=(5, ))"
   ]
  },
  {
   "cell_type": "markdown",
   "id": "41fb7b11",
   "metadata": {},
   "source": [
    "排序和取头部值的方法"
   ]
  },
  {
   "cell_type": "markdown",
   "id": "c2e814e9",
   "metadata": {},
   "source": [
    "Series对象的sort_index()和sort_values()方法可以用于对索引和数据的排序，排序方法有一个名为ascending的布尔类型参数，该参数用于控制排序的结果是升序还是降序；而名为kind的参数则用来控制排序使用的算法，默认使用了quicksort，也可以选择mergesort或heapsort；如果存在空值，那么可以用na_position参数空值放在最前还是最后，默认是last，代码如下所示："
   ]
  },
  {
   "cell_type": "code",
   "execution_count": 34,
   "id": "e36cabae",
   "metadata": {},
   "outputs": [
    {
     "data": {
      "text/plain": [
       "grape     35\n",
       "banana    96\n",
       "pitaya    12\n",
       "apple     57\n",
       "peach     25\n",
       "orange    89\n",
       "dtype: int64"
      ]
     },
     "execution_count": 34,
     "metadata": {},
     "output_type": "execute_result"
    }
   ],
   "source": [
    "ser8 = pd.Series(data=[35, 96, 12, 57, 25, 89], index=[\"grape\", \"banana\", \"pitaya\", \"apple\", \"peach\", \"orange\"])\n",
    "ser8"
   ]
  },
  {
   "cell_type": "code",
   "execution_count": 35,
   "id": "f1321457",
   "metadata": {},
   "outputs": [
    {
     "data": {
      "text/plain": [
       "pitaya    12\n",
       "peach     25\n",
       "grape     35\n",
       "apple     57\n",
       "orange    89\n",
       "banana    96\n",
       "dtype: int64"
      ]
     },
     "execution_count": 35,
     "metadata": {},
     "output_type": "execute_result"
    }
   ],
   "source": [
    "# 按值升序排列\n",
    "ser8.sort_values()\n",
    "# ser8.sort_values(ascending=False)  # 倒序排列"
   ]
  },
  {
   "cell_type": "code",
   "execution_count": 36,
   "id": "eaec1911",
   "metadata": {},
   "outputs": [
    {
     "data": {
      "text/plain": [
       "pitaya    12\n",
       "peach     25\n",
       "orange    89\n",
       "grape     35\n",
       "banana    96\n",
       "apple     57\n",
       "dtype: int64"
      ]
     },
     "execution_count": 36,
     "metadata": {},
     "output_type": "execute_result"
    }
   ],
   "source": [
    "# 按索引倒序排列\n",
    "ser8.sort_index(ascending=False)"
   ]
  },
  {
   "cell_type": "markdown",
   "id": "14eec43b",
   "metadata": {},
   "source": [
    "如果要从Series对象中找出元素中最大或最小的“Top-N”，实际上是不需要对所有的值进行排序的，可以使用nlargest()和nsmallest()方法来完成，如下所示："
   ]
  },
  {
   "cell_type": "code",
   "execution_count": 37,
   "id": "5cfc1624",
   "metadata": {},
   "outputs": [
    {
     "data": {
      "text/plain": [
       "banana    96\n",
       "orange    89\n",
       "apple     57\n",
       "dtype: int64"
      ]
     },
     "execution_count": 37,
     "metadata": {},
     "output_type": "execute_result"
    }
   ],
   "source": [
    "# 值最大的3个\n",
    "ser8.nlargest(3)"
   ]
  },
  {
   "cell_type": "code",
   "execution_count": 38,
   "id": "525c0098",
   "metadata": {},
   "outputs": [
    {
     "data": {
      "text/plain": [
       "pitaya    12\n",
       "peach     25\n",
       "dtype: int64"
      ]
     },
     "execution_count": 38,
     "metadata": {},
     "output_type": "execute_result"
    }
   ],
   "source": [
    "# 值最小的2个\n",
    "ser8.nsmallest(2)"
   ]
  },
  {
   "cell_type": "markdown",
   "id": "96d86884",
   "metadata": {},
   "source": [
    "#### 绘制图表"
   ]
  },
  {
   "cell_type": "markdown",
   "id": "7db5fe65",
   "metadata": {},
   "source": [
    "Series对象有一个名为plot的方法可以用来生成图表，如果选择生成折线图、饼图、柱状图等，默认会使用Series对象的索引作为横坐标，使用Series对象的数据作为纵坐标。"
   ]
  },
  {
   "cell_type": "markdown",
   "id": "bb1f8c17",
   "metadata": {},
   "source": [
    "首先导入matplotlib中pyplot模块并进行必要的配置。"
   ]
  },
  {
   "cell_type": "code",
   "execution_count": 39,
   "id": "bb3c988e",
   "metadata": {},
   "outputs": [],
   "source": [
    "import matplotlib.pyplot as plt\n",
    "# 配置支持中文的非衬线字体（默认的字体无法显示中文）\n",
    "plt.rcParams['font.sans-serif'] = ['SimHei', ]\n",
    "# 使用指定的中文字体时需要下面的配置来避免负号无法显示\n",
    "plt.rcParams['axes.unicode_minus'] = False"
   ]
  },
  {
   "cell_type": "markdown",
   "id": "6d49abc2",
   "metadata": {},
   "source": [
    "创建Series对象并绘制对应的柱状图。"
   ]
  },
  {
   "cell_type": "code",
   "execution_count": 40,
   "id": "efeea418",
   "metadata": {},
   "outputs": [
    {
     "data": {
      "image/png": "[encoded data removed]",
      "text/plain": [
       "<Figure size 432x288 with 1 Axes>"
      ]
     },
     "metadata": {
      "needs_background": "light"
     },
     "output_type": "display_data"
    }
   ],
   "source": [
    "ser9 = pd.Series({'一季度': 400, '二季度': 520, '三季度': 180, '四季度': 380})\n",
    "# 通过Series对象的 plot 方法绘图（kind=‘bar'表示绘制柱状图）\n",
    "ser9.plot(kind='bar', color=[\"r\", \"g\", \"b\", \"y\"])\n",
    "\n",
    "# 支持中文(放在开头声明却不生效？)\n",
    "plt.rcParams['font.sans-serif'] = ['Songti SC'] # 用来正常显示中文标签\n",
    "plt.rcParams['axes.unicode_minus'] = False # 用来正常显示负号\n",
    "# x轴的坐标旋转到0度（中文水平显示）\n",
    "plt.xticks(rotation=0)\n",
    "# 在柱状图的柱子上绘制数字\n",
    "for i in range(4):\n",
    "    plt.text(i, ser9[i] + 5, ser9[i], ha='center')\n",
    "# 显示图像\n",
    "plt.show()"
   ]
  },
  {
   "cell_type": "markdown",
   "id": "36d9a695",
   "metadata": {},
   "source": [
    "绘制反映每个季度占比的饼图。"
   ]
  },
  {
   "cell_type": "code",
   "execution_count": 43,
   "id": "cb9ec5ba",
   "metadata": {},
   "outputs": [
    {
     "data": {
      "image/png": "[encoded data removed]",
      "text/plain": [
       "<Figure size 432x288 with 1 Axes>"
      ]
     },
     "metadata": {},
     "output_type": "display_data"
    }
   ],
   "source": [
    "# autopct参数可以配置在饼图上显示每块饼的占比\n",
    "ser9.plot(kind=\"pie\", autopct='%.1f%%')\n",
    "# 设置 y 轴的标签\n",
    "plt.ylabel(\"各季度占比\")\n",
    "plt.show()"
   ]
  },
  {
   "cell_type": "markdown",
   "id": "6eafd40d",
   "metadata": {},
   "source": [
    "### DataFrame"
   ]
  },
  {
   "cell_type": "markdown",
   "id": "0de100b7",
   "metadata": {},
   "source": [
    "#### 创建dataframe对象："
   ]
  },
  {
   "cell_type": "code",
   "execution_count": 44,
   "id": "3a7708c5",
   "metadata": {},
   "outputs": [],
   "source": [
    "# 通过二维数组创建DataFrame对象\n",
    "scores = np.random.randint(60, 101, (5, 3))\n",
    "courses = [\"语文\"]"
   ]
  },
  {
   "cell_type": "code",
   "execution_count": null,
   "id": "7cec853a",
   "metadata": {},
   "outputs": [],
   "source": []
  },
  {
   "cell_type": "code",
   "execution_count": null,
   "id": "be5c2903",
   "metadata": {},
   "outputs": [],
   "source": []
  },
  {
   "cell_type": "code",
   "execution_count": null,
   "id": "71dc044b",
   "metadata": {},
   "outputs": [],
   "source": []
  },
  {
   "cell_type": "code",
   "execution_count": null,
   "id": "ce053bff",
   "metadata": {},
   "outputs": [],
   "source": []
  },
  {
   "cell_type": "code",
   "execution_count": null,
   "id": "ed4e3830",
   "metadata": {},
   "outputs": [],
   "source": []
  },
  {
   "cell_type": "code",
   "execution_count": null,
   "id": "4f482252",
   "metadata": {},
   "outputs": [],
   "source": []
  },
  {
   "cell_type": "code",
   "execution_count": null,
   "id": "b26a8167",
   "metadata": {},
   "outputs": [],
   "source": []
  },
  {
   "cell_type": "code",
   "execution_count": null,
   "id": "f842847d",
   "metadata": {},
   "outputs": [],
   "source": []
  },
  {
   "cell_type": "code",
   "execution_count": null,
   "id": "7ee789f8",
   "metadata": {},
   "outputs": [],
   "source": []
  },
  {
   "cell_type": "code",
   "execution_count": null,
   "id": "a4970ac0",
   "metadata": {},
   "outputs": [],
   "source": []
  },
  {
   "cell_type": "code",
   "execution_count": null,
   "id": "2293073c",
   "metadata": {},
   "outputs": [],
   "source": []
  },
  {
   "cell_type": "code",
   "execution_count": null,
   "id": "ff32b057",
   "metadata": {},
   "outputs": [],
   "source": []
  },
  {
   "cell_type": "code",
   "execution_count": null,
   "id": "8a18cd6d",
   "metadata": {},
   "outputs": [],
   "source": []
  },
  {
   "cell_type": "code",
   "execution_count": null,
   "id": "ed33cd47",
   "metadata": {},
   "outputs": [],
   "source": []
  },
  {
   "cell_type": "code",
   "execution_count": null,
   "id": "0c0a7315",
   "metadata": {},
   "outputs": [],
   "source": []
  },
  {
   "cell_type": "code",
   "execution_count": null,
   "id": "888401b3",
   "metadata": {},
   "outputs": [],
   "source": []
  },
  {
   "cell_type": "code",
   "execution_count": null,
   "id": "efb67245",
   "metadata": {},
   "outputs": [],
   "source": []
  },
  {
   "cell_type": "code",
   "execution_count": null,
   "id": "3978dc60",
   "metadata": {},
   "outputs": [],
   "source": []
  },
  {
   "cell_type": "code",
   "execution_count": null,
   "id": "5a5a8034",
   "metadata": {},
   "outputs": [],
   "source": []
  },
  {
   "cell_type": "code",
   "execution_count": null,
   "id": "15b0ff61",
   "metadata": {},
   "outputs": [],
   "source": []
  },
  {
   "cell_type": "code",
   "execution_count": null,
   "id": "6d7bf077",
   "metadata": {},
   "outputs": [],
   "source": []
  }
 ],
 "metadata": {
  "kernelspec": {
   "display_name": "Python 3 (ipykernel)",
   "language": "python",
   "name": "python3"
  },
  "language_info": {
   "codemirror_mode": {
    "name": "ipython",
    "version": 3
   },
   "file_extension": ".py",
   "mimetype": "text/x-python",
   "name": "python",
   "nbconvert_exporter": "python",
   "pygments_lexer": "ipython3",
   "version": "3.9.6"
  }
 },
 "nbformat": 4,
 "nbformat_minor": 5
}