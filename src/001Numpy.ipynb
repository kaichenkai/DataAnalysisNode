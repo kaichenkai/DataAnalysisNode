{
 "cells": [
  {
   "cell_type": "markdown",
   "metadata": {
    "collapsed": true
   },
   "source": [
    "## NumPy"
   ]
  },
  {
   "cell_type": "markdown",
   "metadata": {},
   "source": [
    "Numpy是一个开源的Python科学计算库，用于快速处理任意维度的数组。Numpy支持常见的数组和矩阵操作，对于同样的数值计算任务，使用NumPy不仅代码要简洁的多，而且NumPy的性能远远优于原生Python，基本是一个到两个数量级的差距，而且数据量越大，NumPy的优势就越明显。\n",
    "\n",
    "Numpy最为核心的数据类型是ndarray，使用ndarray可以处理一维、二维和多维数组，该对象相当于是一个快速而灵活的大数据容器。NumPy底层代码使用C语言编写，解决了GIL的限制，ndarray在存储数据的时候，数据与数据的地址都是连续的，这样就给使得批量操作速度很快，远远优于Python中的list；另一方面ndarray对象提供了更多的方法来处理数据，尤其是和统计相关的方法，这些方法也是Python原生的list没有的。"
   ]
  },
  {
   "cell_type": "markdown",
   "metadata": {},
   "source": [
    "### 准备工作"
   ]
  },
  {
   "cell_type": "markdown",
   "metadata": {},
   "source": [
    "启动Notebook\n",
    "\n",
    "jupyter notebook\n",
    "\n",
    "提示：在启动Notebook之前，建议先安装好数据分析相关依赖项，包括之前提到的三大神器以及相关依赖项，包括：numpy、pandas、matplotlib、openpyxl、xlrd、xlwt等。如果使用Anaconda，则无需单独安装。"
   ]
  },
  {
   "cell_type": "markdown",
   "metadata": {},
   "source": [
    "### 创建数组对象"
   ]
  },
  {
   "cell_type": "code",
   "execution_count": 2,
   "metadata": {},
   "outputs": [],
   "source": [
    "# 导入依赖\n",
    "import numpy as np\n",
    "import pandas as pd\n",
    "import matplotlib.pyplot as plt"
   ]
  },
  {
   "cell_type": "markdown",
   "metadata": {},
   "source": [
    "#### 一维数组"
   ]
  },
  {
   "cell_type": "code",
   "execution_count": 10,
   "metadata": {},
   "outputs": [
    {
     "data": {
      "text/plain": [
       "array([1, 2, 3, 4, 5])"
      ]
     },
     "execution_count": 10,
     "metadata": {},
     "output_type": "execute_result"
    }
   ],
   "source": [
    "# 使用array函数，通过list创建\n",
    "array1 = np.array([1,2,3,4,5])\n",
    "array1"
   ]
  },
  {
   "cell_type": "code",
   "execution_count": 12,
   "metadata": {},
   "outputs": [
    {
     "data": {
      "text/plain": [
       "array([ 0,  2,  4,  6,  8, 10, 12, 14, 16, 18])"
      ]
     },
     "execution_count": 12,
     "metadata": {},
     "output_type": "execute_result"
    }
   ],
   "source": [
    "# 使用arange函数，指定取值范围创建\n",
    "array2 = np.arange(0, 20, 2)\n",
    "array2"
   ]
  },
  {
   "cell_type": "code",
   "execution_count": 16,
   "metadata": {},
   "outputs": [
    {
     "data": {
      "text/plain": [
       "array([-5. , -4.9, -4.8, -4.7, -4.6, -4.5, -4.4, -4.3, -4.2, -4.1, -4. ,\n",
       "       -3.9, -3.8, -3.7, -3.6, -3.5, -3.4, -3.3, -3.2, -3.1, -3. , -2.9,\n",
       "       -2.8, -2.7, -2.6, -2.5, -2.4, -2.3, -2.2, -2.1, -2. , -1.9, -1.8,\n",
       "       -1.7, -1.6, -1.5, -1.4, -1.3, -1.2, -1.1, -1. , -0.9, -0.8, -0.7,\n",
       "       -0.6, -0.5, -0.4, -0.3, -0.2, -0.1,  0. ,  0.1,  0.2,  0.3,  0.4,\n",
       "        0.5,  0.6,  0.7,  0.8,  0.9,  1. ,  1.1,  1.2,  1.3,  1.4,  1.5,\n",
       "        1.6,  1.7,  1.8,  1.9,  2. ,  2.1,  2.2,  2.3,  2.4,  2.5,  2.6,\n",
       "        2.7,  2.8,  2.9,  3. ,  3.1,  3.2,  3.3,  3.4,  3.5,  3.6,  3.7,\n",
       "        3.8,  3.9,  4. ,  4.1,  4.2,  4.3,  4.4,  4.5,  4.6,  4.7,  4.8,\n",
       "        4.9,  5. ])"
      ]
     },
     "execution_count": 16,
     "metadata": {},
     "output_type": "execute_result"
    }
   ],
   "source": [
    "# 使用 linspace函数，用指定范围均匀间隔的数字创建\n",
    "array3 = np.linspace(-5, 5, 101)\n",
    "array3"
   ]
  },
  {
   "cell_type": "code",
   "execution_count": 21,
   "metadata": {},
   "outputs": [
    {
     "data": {
      "text/plain": [
       "array([0.95657269, 0.18104453, 0.73527402, 0.8668867 , 0.84742635,\n",
       "       0.97721272, 0.35457762, 0.62056864, 0.58403926, 0.40975201])"
      ]
     },
     "execution_count": 21,
     "metadata": {},
     "output_type": "execute_result"
    }
   ],
   "source": [
    "# 使用random模块的函数生成随机数创建\n",
    "\n",
    "# 产生10个$[0, 1)$范围的随机小数：\n",
    "array4 = np.random.rand(10)\n",
    "array4"
   ]
  },
  {
   "cell_type": "code",
   "execution_count": 23,
   "metadata": {},
   "outputs": [
    {
     "data": {
      "text/plain": [
       "array([92, 86, 58, 52, 83, 52, 54, 81, 26, 28])"
      ]
     },
     "execution_count": 23,
     "metadata": {},
     "output_type": "execute_result"
    }
   ],
   "source": [
    "# 产生10个$[1, 100)$范围的随机整数:\n",
    "array5 = np.random.randint(1, 100, 10)\n",
    "array5"
   ]
  },
  {
   "cell_type": "code",
   "execution_count": 24,
   "metadata": {},
   "outputs": [
    {
     "data": {
      "text/plain": [
       "array([45.68129008, 73.04054001, 43.65552087, 47.21163732, 44.85356991,\n",
       "       60.8796293 , 43.56195252, 56.99991671, 39.15854681, 58.64145847,\n",
       "       41.07094791, 48.41978316, 41.14008487, 41.57517331, 41.61658062,\n",
       "       47.92038829, 67.50294151, 41.89043519, 55.39822627, 49.68319951])"
      ]
     },
     "execution_count": 24,
     "metadata": {},
     "output_type": "execute_result"
    }
   ],
   "source": [
    "# 产生20个$\\mu=50$，$\\sigma=10$的正态分布随机数\n",
    "array6 = np.random.normal(50, 10, 20)\n",
    "array6"
   ]
  },
  {
   "cell_type": "markdown",
   "metadata": {},
   "source": [
    "#### 二维数组"
   ]
  },
  {
   "cell_type": "code",
   "execution_count": 26,
   "metadata": {},
   "outputs": [
    {
     "data": {
      "text/plain": [
       "array([[1, 2, 3],\n",
       "       [4, 5, 6]])"
      ]
     },
     "execution_count": 26,
     "metadata": {},
     "output_type": "execute_result"
    }
   ],
   "source": [
    "# 使用array函数，通过嵌套的list创建\n",
    "array7 = np.array([[1,2,3], [4,5,6]])\n",
    "array7"
   ]
  },
  {
   "cell_type": "code",
   "execution_count": 28,
   "metadata": {},
   "outputs": [
    {
     "data": {
      "text/plain": [
       "array([[0., 0., 0., 0.],\n",
       "       [0., 0., 0., 0.],\n",
       "       [0., 0., 0., 0.]])"
      ]
     },
     "execution_count": 28,
     "metadata": {},
     "output_type": "execute_result"
    }
   ],
   "source": [
    "# 使用zeros、ones、full函数指定数组的形状创建\n",
    "array8 = np.zeros((3, 4))\n",
    "array8"
   ]
  },
  {
   "cell_type": "code",
   "execution_count": 31,
   "metadata": {},
   "outputs": [
    {
     "data": {
      "text/plain": [
       "array([[1., 1., 1., 1.],\n",
       "       [1., 1., 1., 1.],\n",
       "       [1., 1., 1., 1.]])"
      ]
     },
     "execution_count": 31,
     "metadata": {},
     "output_type": "execute_result"
    }
   ],
   "source": [
    "array9 = np.ones((3, 4))\n",
    "array9"
   ]
  },
  {
   "cell_type": "code",
   "execution_count": 32,
   "metadata": {},
   "outputs": [
    {
     "data": {
      "text/plain": [
       "array([[10, 10, 10, 10],\n",
       "       [10, 10, 10, 10],\n",
       "       [10, 10, 10, 10]])"
      ]
     },
     "execution_count": 32,
     "metadata": {},
     "output_type": "execute_result"
    }
   ],
   "source": [
    "# 填充元素为10\n",
    "array10 = np.full((3,4), 10)\n",
    "array10"
   ]
  },
  {
   "cell_type": "code",
   "execution_count": 33,
   "metadata": {},
   "outputs": [
    {
     "data": {
      "text/plain": [
       "array([[1., 0., 0., 0.],\n",
       "       [0., 1., 0., 0.],\n",
       "       [0., 0., 1., 0.],\n",
       "       [0., 0., 0., 1.]])"
      ]
     },
     "execution_count": 33,
     "metadata": {},
     "output_type": "execute_result"
    }
   ],
   "source": [
    "# 使用eye函数创建单位矩阵\n",
    "array11 = np.eye(4)\n",
    "array11"
   ]
  },
  {
   "cell_type": "code",
   "execution_count": 34,
   "metadata": {},
   "outputs": [
    {
     "data": {
      "text/plain": [
       "array([[1, 2, 3],\n",
       "       [4, 5, 6]])"
      ]
     },
     "execution_count": 34,
     "metadata": {},
     "output_type": "execute_result"
    }
   ],
   "source": [
    "# 通过reshape将一维数组变成二维数组\n",
    "array12 = np.array([1,2,3,4,5,6])\n",
    "array12.reshape(2, 3)\n",
    "# reshape是ndarray对象的一个方法，使用reshape方法时需要确保调形后的数组元素个数与调形前数组元素个数保持一致，否则将会产生异常。"
   ]
  },
  {
   "cell_type": "code",
   "execution_count": 35,
   "metadata": {},
   "outputs": [
    {
     "data": {
      "text/plain": [
       "array([[0.45134241, 0.37844806, 0.38208074, 0.15332057],\n",
       "       [0.57741252, 0.24351538, 0.32056319, 0.74059884],\n",
       "       [0.82040471, 0.01715954, 0.03217832, 0.61490181]])"
      ]
     },
     "execution_count": 35,
     "metadata": {},
     "output_type": "execute_result"
    }
   ],
   "source": [
    "# 通过numpy.random模块的函数生成随机数创建\n",
    "array13 = np.random.rand(3, 4)\n",
    "array13"
   ]
  },
  {
   "cell_type": "code",
   "execution_count": 36,
   "metadata": {},
   "outputs": [
    {
     "data": {
      "text/plain": [
       "array([[36,  6, 16, 65],\n",
       "       [62, 72, 63, 99],\n",
       "       [97, 22, 76, 36]])"
      ]
     },
     "execution_count": 36,
     "metadata": {},
     "output_type": "execute_result"
    }
   ],
   "source": [
    "# 产生$[1, 100)$范围的随机整数构成的3行4列的二维数组\n",
    "array14 = np.random.randint(1, 100, (3, 4))\n",
    "array14"
   ]
  },
  {
   "cell_type": "markdown",
   "metadata": {},
   "source": [
    "#### 多维数组"
   ]
  },
  {
   "cell_type": "code",
   "execution_count": 37,
   "metadata": {},
   "outputs": [
    {
     "data": {
      "text/plain": [
       "array([[[39,  2, 19,  4, 32],\n",
       "        [97, 73, 75, 24,  9],\n",
       "        [ 6, 53, 18, 83, 46],\n",
       "        [92, 53, 77, 39, 66]],\n",
       "\n",
       "       [[99, 10, 38, 71, 67],\n",
       "        [64, 84, 46, 75, 16],\n",
       "        [80, 77, 18, 93, 52],\n",
       "        [80, 91, 43, 33,  9]],\n",
       "\n",
       "       [[33, 68, 82, 95, 79],\n",
       "        [23, 74, 13, 86, 18],\n",
       "        [22, 42, 27,  6, 65],\n",
       "        [47, 12, 45, 23, 71]]])"
      ]
     },
     "execution_count": 37,
     "metadata": {},
     "output_type": "execute_result"
    }
   ],
   "source": [
    "# 使用随机的方式创建\n",
    "array15 = np.random.randint(1, 100, (3,4,5))\n",
    "array15"
   ]
  },
  {
   "cell_type": "code",
   "execution_count": 38,
   "metadata": {},
   "outputs": [
    {
     "data": {
      "text/plain": [
       "array([[[ 1,  2,  3,  4],\n",
       "        [ 5,  6,  7,  8],\n",
       "        [ 9, 10, 11, 12]],\n",
       "\n",
       "       [[13, 14, 15, 16],\n",
       "        [17, 18, 19, 20],\n",
       "        [21, 22, 23, 24]]])"
      ]
     },
     "execution_count": 38,
     "metadata": {},
     "output_type": "execute_result"
    }
   ],
   "source": [
    "# 将一维二维的数组调形为多维数组\n",
    "\n",
    "# 一维数组调形为多维数组\n",
    "array16 = np.arange(1, 25)\n",
    "array16.reshape((2, 3, 4))"
   ]
  },
  {
   "cell_type": "code",
   "execution_count": 39,
   "metadata": {},
   "outputs": [
    {
     "data": {
      "text/plain": [
       "array([[[ 6, 36],\n",
       "        [73, 53],\n",
       "        [43, 82]],\n",
       "\n",
       "       [[15, 73],\n",
       "        [11, 34],\n",
       "        [84, 24]],\n",
       "\n",
       "       [[ 2, 81],\n",
       "        [50, 70],\n",
       "        [53, 42]],\n",
       "\n",
       "       [[96, 97],\n",
       "        [96, 30],\n",
       "        [85, 98]]])"
      ]
     },
     "execution_count": 39,
     "metadata": {},
     "output_type": "execute_result"
    }
   ],
   "source": [
    "# 二维数组调形为多维数组\n",
    "array17 = np.random.randint(1, 100, (4,6))\n",
    "array17.reshape((4,3,2))"
   ]
  },
  {
   "cell_type": "markdown",
   "metadata": {},
   "source": [
    "#### 数组对象的属性"
   ]
  },
  {
   "cell_type": "code",
   "execution_count": 47,
   "metadata": {},
   "outputs": [
    {
     "name": "stdout",
     "output_type": "stream",
     "text": [
      "50\n",
      "12\n"
     ]
    }
   ],
   "source": [
    "# size属性：数组元素个数\n",
    "array18 = np.arange(1, 100, 2)\n",
    "print(array18.size)\n",
    "\n",
    "array19 = np.random.rand(3, 4)\n",
    "print(array19.size)"
   ]
  },
  {
   "cell_type": "code",
   "execution_count": 49,
   "metadata": {},
   "outputs": [
    {
     "data": {
      "text/plain": [
       "(3, 4)"
      ]
     },
     "execution_count": 49,
     "metadata": {},
     "output_type": "execute_result"
    }
   ],
   "source": [
    "# shape属性：数组的形状\n",
    "array19.shape"
   ]
  },
  {
   "cell_type": "code",
   "execution_count": 52,
   "metadata": {},
   "outputs": [
    {
     "data": {
      "text/plain": [
       "dtype('float64')"
      ]
     },
     "execution_count": 52,
     "metadata": {},
     "output_type": "execute_result"
    }
   ],
   "source": [
    "# dtype属性：数组元素的数据类型\n",
    "array19.dtype"
   ]
  },
  {
   "attachments": {
    "image.png": {
     "image/png": "[encoded data removed]"
    }
   },
   "cell_type": "markdown",
   "metadata": {},
   "source": [
    "ndarray对象元素的数据类型可以参考如下所示的表格。\n",
    "![image.png](attachment:image.png)"
   ]
  },
  {
   "cell_type": "code",
   "execution_count": 53,
   "metadata": {},
   "outputs": [
    {
     "data": {
      "text/plain": [
       "2"
      ]
     },
     "execution_count": 53,
     "metadata": {},
     "output_type": "execute_result"
    }
   ],
   "source": [
    "# ndim属性：数组的维度\n",
    "array19.ndim"
   ]
  },
  {
   "cell_type": "code",
   "execution_count": 55,
   "metadata": {},
   "outputs": [
    {
     "name": "stdout",
     "output_type": "stream",
     "text": [
      "8 1\n"
     ]
    }
   ],
   "source": [
    "# itemsize属性：数组单个元素占用内存空间的字节数\n",
    "array20 = np.arange(1, 100, 2, dtype=np.int8)\n",
    "print(array19.itemsize, array20.itemsize)"
   ]
  },
  {
   "cell_type": "markdown",
   "metadata": {},
   "source": [
    "说明：在使用arange创建数组对象时，通过dtype参数指定元素的数据类型。可以看出，np.int8代表的是8位有符号整数，只占用1个字节的内存空间，取值范围是$[-128,127]$。"
   ]
  },
  {
   "cell_type": "code",
   "execution_count": 56,
   "metadata": {},
   "outputs": [
    {
     "name": "stdout",
     "output_type": "stream",
     "text": [
      "96 50\n"
     ]
    }
   ],
   "source": [
    "# nbytes属性：数组所有元素占用内存空间的字节数\n",
    "print(array19.nbytes, array20.nbytes)"
   ]
  },
  {
   "cell_type": "code",
   "execution_count": 58,
   "metadata": {},
   "outputs": [
    {
     "name": "stdout",
     "output_type": "stream",
     "text": [
      "False True\n"
     ]
    }
   ],
   "source": [
    "# flat属性：数组（一维化之后）元素的迭代器\n",
    "from typing import Iterable\n",
    "print(isinstance(array20.flat, np.ndarray), isinstance(array20.flat, Iterable))"
   ]
  },
  {
   "cell_type": "code",
   "execution_count": 59,
   "metadata": {},
   "outputs": [
    {
     "name": "stdout",
     "output_type": "stream",
     "text": [
      "False True\n"
     ]
    }
   ],
   "source": [
    "# base属性：数组的基对象（如果数组共享了其他数组的内存空间）\n",
    "array21 = array20[:]\n",
    "print(array21.base is array19, array21.base is array20)"
   ]
  },
  {
   "cell_type": "markdown",
   "metadata": {},
   "source": [
    "说明：上面的代码用到了数组的切片操作，它类似于Python中list类型的切片，但在细节上又不完全相同，下面会专门讲解这个知识点。通过上面的代码可以发现，ndarray切片后得到的新的数组对象跟原来的数组对象共享了内存中的数据，因此array22的base属性就是array19对应的数组对象。"
   ]
  },
  {
   "cell_type": "markdown",
   "metadata": {},
   "source": [
    "#### 数组的索引和切片"
   ]
  },
  {
   "cell_type": "markdown",
   "metadata": {},
   "source": [
    "和Python中的列表类似，NumPy的ndarray对象可以进行索引和切片操作，通过索引可以获取或修改数组中的元素，通过切片可以取出数组的一部分。"
   ]
  },
  {
   "cell_type": "markdown",
   "metadata": {},
   "source": [
    "索引运算"
   ]
  },
  {
   "cell_type": "code",
   "execution_count": 85,
   "metadata": {},
   "outputs": [
    {
     "name": "stdout",
     "output_type": "stream",
     "text": [
      "1 9\n",
      "1 9\n"
     ]
    }
   ],
   "source": [
    "# 一维数组： \n",
    "array22 = np.arange(1, 10)\n",
    "print(array22[0], array22[array22.size - 1])\n",
    "print(array22[-array22.size], array22[-1])"
   ]
  },
  {
   "cell_type": "code",
   "execution_count": 83,
   "metadata": {},
   "outputs": [
    {
     "name": "stdout",
     "output_type": "stream",
     "text": [
      "[[1 2 3]\n",
      " [4 5 6]\n",
      " [7 8 9]] \n",
      "\n",
      "[7 8 9]\n",
      "1 9\n",
      "5 5\n"
     ]
    }
   ],
   "source": [
    "# 二维数组：\n",
    "array23 = np.arange(1, 10).reshape((3,3))\n",
    "print(array23, \"\\n\")\n",
    "print(array23[2])\n",
    "print(array23[0][0], array23[-1][-1])\n",
    "print(array23[1][1], array23[1][1])"
   ]
  },
  {
   "cell_type": "code",
   "execution_count": 84,
   "metadata": {},
   "outputs": [
    {
     "name": "stdout",
     "output_type": "stream",
     "text": [
      "[[ 1  2  3]\n",
      " [ 4 10  6]\n",
      " [ 7  8  9]] \n",
      "\n",
      "[[ 1  2  3]\n",
      " [10 11 12]\n",
      " [ 7  8  9]]\n"
     ]
    }
   ],
   "source": [
    "array23[1][1] = 10\n",
    "print(array23, \"\\n\")\n",
    "array23[1] = [10, 11, 12]\n",
    "print(array23)"
   ]
  },
  {
   "cell_type": "markdown",
   "metadata": {},
   "source": [
    "切片运算（切片索引）"
   ]
  },
  {
   "cell_type": "markdown",
   "metadata": {},
   "source": [
    "切片是形如[开始索引:结束索引:步长]的语法，通过指定开始索引（默认值无穷小）、结束索引（默认值无穷大）和步长（默认值1），从数组中取出指定部分的元素并构成新的数组。因为开始索引、结束索引和步长都有默认值，所以它们都可以省略，如果不指定步长，第二个冒号也可以省略。一维数组的切片运算跟Python中的list类型的切片非常类似，此处不再赘述，二维数组的切片可以参考下面的代码，相信非常容易理解。"
   ]
  },
  {
   "cell_type": "code",
   "execution_count": 87,
   "metadata": {},
   "outputs": [
    {
     "data": {
      "text/plain": [
       "array([[2, 3],\n",
       "       [5, 6]])"
      ]
     },
     "execution_count": 87,
     "metadata": {},
     "output_type": "execute_result"
    }
   ],
   "source": [
    "array24 = np.arange(1, 10).reshape((3,3))\n",
    "array24[:2, 1:]"
   ]
  },
  {
   "cell_type": "code",
   "execution_count": 88,
   "metadata": {},
   "outputs": [
    {
     "data": {
      "text/plain": [
       "array([7, 8, 9])"
      ]
     },
     "execution_count": 88,
     "metadata": {},
     "output_type": "execute_result"
    }
   ],
   "source": [
    "array24[2]"
   ]
  },
  {
   "cell_type": "code",
   "execution_count": 90,
   "metadata": {},
   "outputs": [
    {
     "data": {
      "text/plain": [
       "array([7, 8, 9])"
      ]
     },
     "execution_count": 90,
     "metadata": {},
     "output_type": "execute_result"
    }
   ],
   "source": [
    "array24[2, :]"
   ]
  },
  {
   "cell_type": "code",
   "execution_count": 92,
   "metadata": {},
   "outputs": [
    {
     "data": {
      "text/plain": [
       "array([[7, 8, 9]])"
      ]
     },
     "execution_count": 92,
     "metadata": {},
     "output_type": "execute_result"
    }
   ],
   "source": [
    "array24[2:, :]"
   ]
  },
  {
   "cell_type": "code",
   "execution_count": 93,
   "metadata": {},
   "outputs": [
    {
     "data": {
      "text/plain": [
       "array([[1, 2],\n",
       "       [4, 5],\n",
       "       [7, 8]])"
      ]
     },
     "execution_count": 93,
     "metadata": {},
     "output_type": "execute_result"
    }
   ],
   "source": [
    "array24[:, :2]"
   ]
  },
  {
   "cell_type": "code",
   "execution_count": 94,
   "metadata": {},
   "outputs": [
    {
     "data": {
      "text/plain": [
       "array([[4, 5]])"
      ]
     },
     "execution_count": 94,
     "metadata": {},
     "output_type": "execute_result"
    }
   ],
   "source": [
    "array24[1:2, :2]"
   ]
  },
  {
   "cell_type": "markdown",
   "metadata": {},
   "source": [
    "花式索引（fancy index）"
   ]
  },
  {
   "cell_type": "code",
   "execution_count": 96,
   "metadata": {},
   "outputs": [
    {
     "data": {
      "text/plain": [
       "array([50, 30, 40])"
      ]
     },
     "execution_count": 96,
     "metadata": {},
     "output_type": "execute_result"
    }
   ],
   "source": [
    "array25 = np.array([50, 30, 15, 20, 40])\n",
    "array25[[0,1,-1]]"
   ]
  },
  {
   "cell_type": "code",
   "execution_count": 98,
   "metadata": {},
   "outputs": [
    {
     "data": {
      "text/plain": [
       "array([[30, 20, 10],\n",
       "       [10, 90, 80]])"
      ]
     },
     "execution_count": 98,
     "metadata": {},
     "output_type": "execute_result"
    }
   ],
   "source": [
    "# 二维数组的花式索引\n",
    "array26 = np.array([[30,20,10], [40,60,50], [10,90,80]])\n",
    "array26[[0, 2]]"
   ]
  },
  {
   "cell_type": "code",
   "execution_count": 102,
   "metadata": {},
   "outputs": [
    {
     "data": {
      "text/plain": [
       "array([20, 80])"
      ]
     },
     "execution_count": 102,
     "metadata": {},
     "output_type": "execute_result"
    }
   ],
   "source": [
    "# 取二维数组第1行第2列，第3行第3列的两个元素\n",
    "array26[[0,2], [1,2]]"
   ]
  },
  {
   "cell_type": "code",
   "execution_count": 105,
   "metadata": {},
   "outputs": [
    {
     "data": {
      "text/plain": [
       "array([20, 90])"
      ]
     },
     "execution_count": 105,
     "metadata": {},
     "output_type": "execute_result"
    }
   ],
   "source": [
    "# 取二维数组第1行第2列，第3行第2列的两个元素\n",
    "array26[[0,2], [1,1]]\n",
    "array26[[0,2], 1]"
   ]
  },
  {
   "cell_type": "markdown",
   "metadata": {},
   "source": [
    "布尔索引"
   ]
  },
  {
   "cell_type": "markdown",
   "metadata": {},
   "source": [
    "布尔索引就是通过布尔类型的数组对数组元素进行索引，布尔类型的数组可以手动构造，也可以通过关系运算来产生布尔类型的数组。"
   ]
  },
  {
   "cell_type": "code",
   "execution_count": 106,
   "metadata": {},
   "outputs": [
    {
     "data": {
      "text/plain": [
       "array([1, 3, 4, 9])"
      ]
     },
     "execution_count": 106,
     "metadata": {},
     "output_type": "execute_result"
    }
   ],
   "source": [
    "array27 = np.arange(1, 10)\n",
    "array27[[True, False, True, True, False, False, False, False, True]]"
   ]
  },
  {
   "cell_type": "code",
   "execution_count": 107,
   "metadata": {},
   "outputs": [
    {
     "data": {
      "text/plain": [
       "array([False, False, False, False,  True,  True,  True,  True,  True])"
      ]
     },
     "execution_count": 107,
     "metadata": {},
     "output_type": "execute_result"
    }
   ],
   "source": [
    "array27 >= 5"
   ]
  },
  {
   "cell_type": "code",
   "execution_count": 108,
   "metadata": {},
   "outputs": [
    {
     "data": {
      "text/plain": [
       "array([ True,  True,  True,  True, False, False, False, False, False])"
      ]
     },
     "execution_count": 108,
     "metadata": {},
     "output_type": "execute_result"
    }
   ],
   "source": [
    "# ~运算符可以实现逻辑变反，看看运行结果跟上面有什么不同\n",
    "~(array27 >= 5)"
   ]
  },
  {
   "cell_type": "code",
   "execution_count": 109,
   "metadata": {},
   "outputs": [
    {
     "data": {
      "text/plain": [
       "array([5, 6, 7, 8, 9])"
      ]
     },
     "execution_count": 109,
     "metadata": {},
     "output_type": "execute_result"
    }
   ],
   "source": [
    "array27[array27 >= 5]"
   ]
  },
  {
   "cell_type": "markdown",
   "metadata": {},
   "source": [
    "提示：切片操作虽然创建了新的数组对象，但是新数组和原数组共享了数组中的数据，简单的说，如果通过新数组对象或原数组对象修改数组中的数据，其实修改的是同一块数据。花式索引和布尔索引也会创建新的数组对象，而且新数组复制了原数组的元素，新数组和原数组并不是共享数据的关系，这一点通过前面讲的数组的base属性也可以了解到，大家一定要注意."
   ]
  },
  {
   "cell_type": "markdown",
   "metadata": {},
   "source": [
    "#### 数组对象的方法"
   ]
  },
  {
   "cell_type": "markdown",
   "metadata": {},
   "source": [
    "统计方法\n",
    "\n",
    "ndarray对象的统计方法主要包括：sum()、mean()、std()、var()、min()、max()、argmin()、argmax()、cumsum()等，分别用于对数组中的元素求和、求平均、求标准差、求方差、找最大、找最小、求累积和等，请参考下面的代码。"
   ]
  },
  {
   "cell_type": "code",
   "execution_count": 110,
   "metadata": {},
   "outputs": [
    {
     "name": "stdout",
     "output_type": "stream",
     "text": [
      "30\n",
      "3.0\n",
      "5\n",
      "1\n",
      "1.4142135623730951\n",
      "2.0\n",
      "[ 1  3  6 10 15 20 24 27 29 30]\n"
     ]
    }
   ],
   "source": [
    "array28 = np.array([1, 2, 3, 4, 5, 5, 4, 3, 2, 1])\n",
    "print(array28.sum())\n",
    "print(array28.mean())\n",
    "print(array28.max())\n",
    "print(array28.min())\n",
    "print(array28.std())\n",
    "print(array28.var())\n",
    "print(array28.cumsum())"
   ]
  },
  {
   "cell_type": "markdown",
   "metadata": {},
   "source": [
    "其它方法"
   ]
  },
  {
   "cell_type": "markdown",
   "metadata": {},
   "source": [
    "all() / any()方法：判断数组是否所有元素都是True / 判断数组是否有为True的元素。\n",
    "\n",
    "astype()方法：拷贝数组，并将数组中的元素转换为指定的类型。\n",
    "\n",
    "dump()方法：保存数组到文件中，可以通过NumPy中的load()函数从保存的文件中加载数据创建数组。\n",
    "\n",
    "fill()方法：向数组中填充指定的元素。\n",
    "\n",
    "flatten()方法：将多维数组扁平化为一维数组。\n",
    "\n",
    "nonzero()方法：返回非0元素的索引。\n",
    "\n",
    "round()方法：对数组中的元素做四舍五入操作。\n",
    "\n",
    "sort()方法：对数组进行就地排序。\n",
    "\n",
    "take()方法：从数组中取指定索引的元素，类似于花式索引。"
   ]
  },
  {
   "cell_type": "code",
   "execution_count": 115,
   "metadata": {},
   "outputs": [
    {
     "data": {
      "text/plain": [
       "array([[1, 3, 5],\n",
       "       [2, 4, 6]])"
      ]
     },
     "execution_count": 115,
     "metadata": {},
     "output_type": "execute_result"
    }
   ],
   "source": [
    "# swapaxes()和transpose()方法：交换数组指定的轴。\n",
    "array29 = np.array([[1, 2], [3, 4], [5, 6]])\n",
    "array29.swapaxes(0, 1)"
   ]
  },
  {
   "cell_type": "code",
   "execution_count": 117,
   "metadata": {},
   "outputs": [
    {
     "data": {
      "text/plain": [
       "array([[1, 3, 5],\n",
       "       [2, 4, 6]])"
      ]
     },
     "execution_count": 117,
     "metadata": {},
     "output_type": "execute_result"
    }
   ],
   "source": [
    "# 对于二维数组，transpose相当于实现了矩阵的转置\n",
    "array29.transpose()"
   ]
  },
  {
   "cell_type": "markdown",
   "metadata": {},
   "source": [
    "#### 数组的运算"
   ]
  },
  {
   "cell_type": "markdown",
   "metadata": {},
   "source": [
    "使用NumPy最为方便的是当需要对数组元素进行运算时，不用编写循环代码遍历每个元素，所有的运算都会自动的矢量化（使用高效的提前编译的底层语言代码来对数据序列进行数学操作）。简单的说就是，NumPy中的数学运算和数学函数会自动作用于数组中的每个成员。"
   ]
  },
  {
   "cell_type": "markdown",
   "metadata": {},
   "source": [
    "数组跟标量的运算"
   ]
  },
  {
   "cell_type": "code",
   "execution_count": 121,
   "metadata": {},
   "outputs": [
    {
     "name": "stdout",
     "output_type": "stream",
     "text": [
      "[11 12 13 14 15 16 17 18 19]\n",
      "[10 20 30 40 50 60 70 80 90]\n"
     ]
    }
   ],
   "source": [
    "array30 = np.arange(1,10)\n",
    "print(array30 + 10)\n",
    "print(array30 * 10)"
   ]
  },
  {
   "cell_type": "markdown",
   "metadata": {},
   "source": [
    "数组跟数组的运算"
   ]
  },
  {
   "cell_type": "code",
   "execution_count": 122,
   "metadata": {},
   "outputs": [
    {
     "name": "stdout",
     "output_type": "stream",
     "text": [
      "[ 2  3  4  6  7  8 10 11 12]\n",
      "[ 1  2  3  8 10 12 21 24 27]\n",
      "[  1   2   3  16  25  36 343 512 729]\n"
     ]
    }
   ],
   "source": [
    "array31 = np.array([1, 1, 1, 2, 2, 2, 3, 3, 3])\n",
    "print(array30 + array31)\n",
    "print(array30 * array31)\n",
    "print(array30 ** array31)"
   ]
  },
  {
   "cell_type": "markdown",
   "metadata": {},
   "source": [
    "#### 通用一元函数"
   ]
  },
  {
   "cell_type": "markdown",
   "metadata": {},
   "source": [
    "通用函数是对ndarray中的数据执行元素级运算的函数。你可以将其看做普通函数（接收一个标量值作为参数，返回一个标量值）的矢量化包装器。"
   ]
  },
  {
   "cell_type": "markdown",
   "metadata": {},
   "source": [
    "\n",
    "\n",
    "| 函数                             | 说明                                          |\n",
    "| -------------------------------- | --------------------------------------------- |\n",
    "| `abs` / `fabs`                   | 求绝对值的函数                                |\n",
    "| `sqrt`                           | 求平方根的函数，相当于`array ** 0.5`          |\n",
    "| `square`                         | 求平方的函数，相当于`array ** 2`              |\n",
    "| `exp`                            | 计算$e^x$的函数                               |\n",
    "| `log` / `log10` / `log2`         | 对数函数（`e`为底 / `10`为底 / `2`为底）      |\n",
    "| `sign`                           | 符号函数（`1` - 正数；`0` - 零；`-1` - 负数） |\n",
    "| `ceil` / `floor`                 | 上取整 / 下取整                               |\n",
    "| `isnan`                          | 返回布尔数组，NaN对应`True`，非NaN对应`False` |\n",
    "| `isfinite` / `isinf`             | 判断数值是否为无穷大的函数                    |\n",
    "| `cos` / `cosh` / `sin`           | 三角函数                                      |\n",
    "| `sinh` / `tan` / `tanh`          | 三角函数                                      |\n",
    "| `arccos` / `arccosh` / `arcsin`  | 反三角函数                                    |\n",
    "| `arcsinh` / `arctan` / `arctanh` | 反三角函数                                    |\n",
    "| `rint` / `round`                 | 四舍五入函数                                  |\n",
    "\n"
   ]
  },
  {
   "cell_type": "markdown",
   "metadata": {},
   "source": [
    "#### 通用二元函数"
   ]
  },
  {
   "cell_type": "code",
   "execution_count": 124,
   "metadata": {},
   "outputs": [
    {
     "name": "stdout",
     "output_type": "stream",
     "text": [
      "[[ 4 10 18]\n",
      " [21 16  9]]\n",
      "[[  4  25 216]\n",
      " [343  64   9]]\n"
     ]
    }
   ],
   "source": [
    "array32 = np.array([[4, 5, 6], [7, 8, 9]])\n",
    "array33 = np.array([[1, 2, 3], [3, 2, 1]])\n",
    "print(array32 * array33)\n",
    "print(np.power(array32, array33))"
   ]
  },
  {
   "cell_type": "markdown",
   "metadata": {},
   "source": [
    "\n",
    "\n",
    "| 函数                               | 说明                                                    |\n",
    "| ---------------------------------- | ------------------------------------------------------- |\n",
    "| `add(x, y)` / `substract(x, y)`    | 加法函数 / 减法函数                                     |\n",
    "| `multiply(x, y)` / `divide(x, y)`  | 乘法函数 / 除法函数                                     |\n",
    "| `floor_divide(x, y)` / `mod(x, y)` | 整除函数 / 求模函数                                     |\n",
    "| `allclose(x, y)`                   | 检查数组`x`和`y`元素是否几乎相等                        |\n",
    "| `power(x, y)`                      | 数组$x$的元素$x_i$和数组$y$的元素$y_i$，计算$x_i^{y_i}$ |\n",
    "| `maximum(x, y)` / `fmax(x, y)`     | 两两比较元素获取最大值 / 获取最大值（忽略NaN）          |\n",
    "| `minimum(x, y)` / `fmin(x, y)`     | 两两比较元素获取最小值 / 获取最小值（忽略NaN）          |\n",
    "| `inner(x, y)`                      | 内积运算                                                |\n",
    "| `cross(x, y) `/ `outer(x, y)`      | 叉积运算 / 外积运算                                     |\n",
    "| `intersect1d(x, y)`                | 计算`x`和`y`的交集，返回这些元素构成的有序数组          |\n",
    "| `union1d(x, y)`                    | 计算`x`和`y`的并集，返回这些元素构成的有序数组          |\n",
    "| `in1d(x, y)`                       | 返回由判断`x` 的元素是否在`y`中得到的布尔值构成的数组   |\n",
    "| `setdiff1d(x, y)`                  | 计算`x`和`y`的差集，返回这些元素构成的数组              |\n",
    "| `setxor1d(x, y)`                   | 计算`x`和`y`的对称差，返回这些元素构成的数组            |\n",
    "\n"
   ]
  },
  {
   "cell_type": "markdown",
   "metadata": {},
   "source": [
    "#### 广播机制"
   ]
  },
  {
   "cell_type": "markdown",
   "metadata": {},
   "source": [
    "上面的例子中，两个二元运算的数组形状是完全相同的，我们再来研究一下，两个形状不同的数组是否可以直接做二元运算或使用二元函数进行运算，请看下面的例子。"
   ]
  },
  {
   "cell_type": "code",
   "execution_count": 125,
   "metadata": {},
   "outputs": [
    {
     "data": {
      "text/plain": [
       "array([[1, 2, 3],\n",
       "       [2, 3, 4],\n",
       "       [3, 4, 5],\n",
       "       [4, 5, 6]])"
      ]
     },
     "execution_count": 125,
     "metadata": {},
     "output_type": "execute_result"
    }
   ],
   "source": [
    "array34 = np.array([[0, 0, 0], [1, 1, 1], [2, 2, 2], [3, 3, 3]])\n",
    "array35 = np.array([1, 2, 3])\n",
    "array34 + array35"
   ]
  },
  {
   "cell_type": "code",
   "execution_count": 126,
   "metadata": {},
   "outputs": [
    {
     "data": {
      "text/plain": [
       "array([[1, 1, 1],\n",
       "       [3, 3, 3],\n",
       "       [5, 5, 5],\n",
       "       [7, 7, 7]])"
      ]
     },
     "execution_count": 126,
     "metadata": {},
     "output_type": "execute_result"
    }
   ],
   "source": [
    "array36 = np.array([[1], [2], [3], [4]])\n",
    "array36 + array34"
   ]
  },
  {
   "cell_type": "markdown",
   "metadata": {},
   "source": [
    "#### 其他常用函数"
   ]
  },
  {
   "cell_type": "markdown",
   "metadata": {},
   "source": [
    "除了上面讲到的函数外，NumPy中还提供了很多用于处理数组的函数，ndarray对象的很多方法也可以通过直接调用函数来实现，下表给出了一些常用的函数。"
   ]
  },
  {
   "cell_type": "markdown",
   "metadata": {},
   "source": [
    "\n",
    "\n",
    "| 函数                           | 说明                                             |\n",
    "| ------------------------------ | ------------------------------------------------ |\n",
    "| `unique`                       | 去除数组重复元素，返回唯一元素构成的有序数组     |\n",
    "| `copy`                         | 返回拷贝数组得到的数组                           |\n",
    "| `sort`                         | 返回数组元素排序后的拷贝                         |\n",
    "| `split` / `hsplit` / `vsplit`  | 将数组拆成若干个子数组                           |\n",
    "| `stack` / `hstack` / `vstack`  | 将多个数组堆叠成新数组                           |\n",
    "| `concatenate`                  | 沿着指定的轴连接多个数组构成新数组               |\n",
    "| `append` / `insert`            | 向数组末尾追加元素 / 在数组指定位置插入元素      |\n",
    "| `argwhere`                     | 找出数组中非0元素的位置                          |\n",
    "| `extract` / `select` / `where` | 按照指定的条件从数组中抽取或处理数组元素         |\n",
    "| `flip`                         | 沿指定的轴翻转数组中的元素                       |\n",
    "| `fromiter`                     | 通过迭代器创建数组对象                           |\n",
    "| `fromregex`                    | 通过读取文件和正则表达式解析获取数据创建数组对象 |\n",
    "| `repeat` / `tile`              | 通过对元素的重复来创建新数组                     |\n",
    "| `roll`                         | 沿指定轴对数组元素进行移位                       |\n",
    "| `resize`                       | 重新调整数组的大小                               |\n",
    "| `place` / `put`                | 将数组中满足条件的元素/指定的元素替换为指定的值  |\n",
    "| `ptp`                          | 沿指定的轴计算极差（最大值与最小值的差）         |\n",
    "| `median`                       | 沿指定轴计算中位数                               |\n",
    "| `partition`                    | 用选定的元素对数组进行一次划分并返回划分后的数组 |\n",
    "\n"
   ]
  },
  {
   "cell_type": "markdown",
   "metadata": {},
   "source": [
    "提示：上面的resize函数和ndarray对象的resize方法是有区别的，resize函数在调整数组大小时会重复数组中的元素作为填补多出来的元素的值，而ndarry对象的resize方法是用0来填补多出来的元素。这些小细节不清楚暂时也不要紧，但是如果用到对应的功能了就要引起注意。"
   ]
  },
  {
   "cell_type": "code",
   "execution_count": 128,
   "metadata": {},
   "outputs": [
    {
     "data": {
      "text/plain": [
       "array([[1, 1, 1, 4, 4, 4],\n",
       "       [2, 2, 2, 5, 5, 5],\n",
       "       [3, 3, 3, 6, 6, 6]])"
      ]
     },
     "execution_count": 128,
     "metadata": {},
     "output_type": "execute_result"
    }
   ],
   "source": [
    "array37 = np.array([[1, 1, 1], [2, 2, 2], [3, 3, 3]])\n",
    "array38 = np.array([[4, 4, 4], [5, 5, 5], [6, 6, 6]])\n",
    "np.hstack((array37, array38))"
   ]
  },
  {
   "cell_type": "code",
   "execution_count": 129,
   "metadata": {},
   "outputs": [
    {
     "data": {
      "text/plain": [
       "array([[1, 1, 1],\n",
       "       [2, 2, 2],\n",
       "       [3, 3, 3],\n",
       "       [4, 4, 4],\n",
       "       [5, 5, 5],\n",
       "       [6, 6, 6]])"
      ]
     },
     "execution_count": 129,
     "metadata": {},
     "output_type": "execute_result"
    }
   ],
   "source": [
    "np.vstack((array37, array38))"
   ]
  },
  {
   "cell_type": "code",
   "execution_count": 130,
   "metadata": {},
   "outputs": [
    {
     "data": {
      "text/plain": [
       "array([[1, 1, 1],\n",
       "       [2, 2, 2],\n",
       "       [3, 3, 3],\n",
       "       [4, 4, 4],\n",
       "       [5, 5, 5],\n",
       "       [6, 6, 6]])"
      ]
     },
     "execution_count": 130,
     "metadata": {},
     "output_type": "execute_result"
    }
   ],
   "source": [
    "np.concatenate((array37, array38))"
   ]
  },
  {
   "cell_type": "code",
   "execution_count": 131,
   "metadata": {},
   "outputs": [
    {
     "data": {
      "text/plain": [
       "array([[1, 1, 1, 4, 4, 4],\n",
       "       [2, 2, 2, 5, 5, 5],\n",
       "       [3, 3, 3, 6, 6, 6]])"
      ]
     },
     "execution_count": 131,
     "metadata": {},
     "output_type": "execute_result"
    }
   ],
   "source": [
    "np.concatenate((array37, array38), axis=1)"
   ]
  },
  {
   "cell_type": "code",
   "execution_count": null,
   "metadata": {},
   "outputs": [],
   "source": []
  }
 ],
 "metadata": {
  "kernelspec": {
   "display_name": "Python 3 (ipykernel)",
   "language": "python",
   "name": "python3"
  },
  "language_info": {
   "codemirror_mode": {
    "name": "ipython",
    "version": 3
   },
   "file_extension": ".py",
   "mimetype": "text/x-python",
   "name": "python",
   "nbconvert_exporter": "python",
   "pygments_lexer": "ipython3",
   "version": "3.9.6"
  }
 },
 "nbformat": 4,
 "nbformat_minor": 1
}