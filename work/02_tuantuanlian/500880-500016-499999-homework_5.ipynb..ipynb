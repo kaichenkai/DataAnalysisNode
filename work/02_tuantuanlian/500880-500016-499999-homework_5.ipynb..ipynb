{
 "cells": [
  {
   "cell_type": "markdown",
   "metadata": {
    "deletable": false,
    "editable": false,
    "nbgrader": {
     "checksum": "e9fc4f59011343398eba2423209a9546",
     "grade": false,
     "grade_id": "cell-a4c41f39205051c2",
     "locked": true,
     "schema_version": 1,
     "solution": false
    }
   },
   "source": [
    "# Homework 5\n",
    "\n",
    "In this homework your goal is to analyze the shooting percentage of a given player over the course of the season. \n",
    "\n",
    "\n",
    "## Problem 1\n",
    "\n",
    "In this problem, you are asked to implement a function to get the player's shots data. In particular, your function should read in \"data/shot_logs.csv\" and filter the dataset to return the player's data. \n",
    "\n",
    "\n"
   ]
  },
  {
   "cell_type": "code",
   "execution_count": 6,
   "metadata": {
    "deletable": false,
    "nbgrader": {
     "checksum": "03d1876b6e12e0d810231e021da194a9",
     "grade": false,
     "grade_id": "cell-b78086c290d4a60c",
     "locked": false,
     "schema_version": 1,
     "solution": true
    }
   },
   "outputs": [],
   "source": [
    "import pandas as pd\n",
    "\n",
    "\n",
    "def GetPlayerData(player):\n",
    "    #df_shots_player = None\n",
    "    \n",
    "    # YOUR CODE HERE\n",
    "    df=pd.read_csv(\"data/shot_logs.csv\")\n",
    "    df_shots_player = df[df['player_name']==player]\n",
    "\n",
    "    return df_shots_player\n"
   ]
  },
  {
   "cell_type": "code",
   "execution_count": 7,
   "metadata": {
    "deletable": false,
    "editable": false,
    "nbgrader": {
     "checksum": "2b7960b3ff3847c8bd8859cdf58eeba6",
     "grade": true,
     "grade_id": "cell-2853176972493b6e",
     "locked": true,
     "points": 25,
     "schema_version": 1,
     "solution": false
    }
   },
   "outputs": [],
   "source": [
    "df_shots_player = GetPlayerData(\"stephen curry\")\n",
    "assert df_shots_player.shape == (968, 21)\n",
    "df_shots_player = GetPlayerData(\"brian roberts\")\n",
    "assert df_shots_player.shape == (372, 21)"
   ]
  },
  {
   "cell_type": "markdown",
   "metadata": {
    "deletable": false,
    "editable": false,
    "nbgrader": {
     "checksum": "13202de3017c53880e53e1172ec79cdb",
     "grade": false,
     "grade_id": "cell-1c14a1786a26dc5a",
     "locked": true,
     "schema_version": 1,
     "solution": false
    }
   },
   "source": [
    "## Problem 2\n",
    "\n",
    "You need to implement a function to add a Month column to the existing data, which contains the month from the MATCHUP column. "
   ]
  },
  {
   "cell_type": "code",
   "execution_count": 69,
   "metadata": {
    "deletable": false,
    "nbgrader": {
     "checksum": "b1e03feb0e72b9f6f04f936aa22c54e2",
     "grade": false,
     "grade_id": "cell-562beecb93f03f23",
     "locked": false,
     "schema_version": 1,
     "solution": true
    }
   },
   "outputs": [],
   "source": [
    "\n",
    "def AddMonth(df_shots_player):\n",
    "    d = {'JAN':1, 'FEB':2, 'MAR':3, 'APR':4, 'MAY':5, 'JUN': 6, 'JUL':7,'AUG':8,'SEP':9,'OCT':10,'NOV':11,'DEC':12 }\n",
    "\n",
    "    # YOUR CODE HERE\n",
    "    df_shots_player['Month'] = df_shots_player.MATCHUP.map(lambda x :d[x[0:3]])\n",
    "    \n",
    "    \n",
    "    \n",
    "    return df_shots_player"
   ]
  },
  {
   "cell_type": "code",
   "execution_count": 70,
   "metadata": {
    "deletable": false,
    "editable": false,
    "nbgrader": {
     "checksum": "89ed68fa6ca84cdeafb5e3093d844772",
     "grade": true,
     "grade_id": "cell-681343a4d7e22bbd",
     "locked": true,
     "points": 25,
     "schema_version": 1,
     "solution": false
    }
   },
   "outputs": [],
   "source": [
    "df_shots_player = GetPlayerData(\"stephen curry\")\n",
    "df_shots_player = AddMonth(df_shots_player)\n",
    "assert round(df_shots_player[\"Month\"].describe()[\"mean\"], 2) == 6.65\n",
    "\n",
    "df_shots_player = AddMonth(GetPlayerData(\"brian roberts\"))\n",
    "assert round(df_shots_player[\"Month\"].describe()[\"mean\"], 2) == 6.69"
   ]
  },
  {
   "cell_type": "markdown",
   "metadata": {
    "deletable": false,
    "editable": false,
    "nbgrader": {
     "checksum": "a6ac767a6b94478c29d3c43784f34eca",
     "grade": false,
     "grade_id": "cell-2126eb613c731192",
     "locked": true,
     "schema_version": 1,
     "solution": false
    }
   },
   "source": [
    "## Problem 3\n",
    "\n",
    "You need to implement a function to add a column called \"Short_Type\" to df_shots_player that identifies the shot type as one of the three that we are interested in: \"short\" (<=7 ft.), \"mid-range\" (Any 2-pointer longer than 7 ft.) and \"3-pointer\". I would recommend using apply with a custom function. You need to rely on the column SHOT_DIST and PTS_TYPE.\n"
   ]
  },
  {
   "cell_type": "code",
   "execution_count": 76,
   "metadata": {
    "deletable": false,
    "nbgrader": {
     "checksum": "ef23d439028d19ff8ce941d6cc632cb9",
     "grade": false,
     "grade_id": "cell-a3c8e33b23a52cfd",
     "locked": false,
     "schema_version": 1,
     "solution": true
    }
   },
   "outputs": [],
   "source": [
    "def GetShotType(row):\n",
    "    \"\"\"\n",
    "    This function takes a row of the dataset and returns\n",
    "    \"3-pointer\", \"short\" or \"mid-range\" depending on the shot\n",
    "    type.\n",
    "    \"\"\"\n",
    "    return_type = \"3-pointer\"\n",
    "\n",
    "    # YOUR CODE HERE\n",
    "   \n",
    "\n",
    "    if(row.PTS_TYPE == 2 and row.SHOT_DIST <= 7):\n",
    "        return_type = \"short\"\n",
    "    elif(row.PTS_TYPE == 2 and row.SHOT_DIST > 7):\n",
    "        return_type = \"mid-range\"\n",
    "    \n",
    "    \n",
    "    \n",
    "    return return_type\n",
    "\n",
    "def AddShotType(df_shots_player):\n",
    "    df_shots_player['Shot_Type'] =  df_shots_player.apply(GetShotType, axis =1)\n",
    "    \n",
    "    return df_shots_player"
   ]
  },
  {
   "cell_type": "code",
   "execution_count": 77,
   "metadata": {
    "deletable": false,
    "editable": false,
    "nbgrader": {
     "checksum": "95631acdfec0edfd8083bc8c7ebe5447",
     "grade": true,
     "grade_id": "cell-d143e38c322d9286",
     "locked": true,
     "points": 25,
     "schema_version": 1,
     "solution": false
    }
   },
   "outputs": [],
   "source": [
    "import pandas as pd\n",
    "\n",
    "df_shots_player = GetPlayerData(\"stephen curry\")\n",
    "df_shots_player = AddMonth(df_shots_player)\n",
    "df_shots_player = AddShotType(df_shots_player)\n",
    "\n",
    "assert df_shots_player[df_shots_player[\"Shot_Type\"] == \"3-pointer\"].shape[0] == 456\n",
    "assert df_shots_player[df_shots_player[\"Shot_Type\"] == \"short\"].shape[0] == 224\n",
    "assert df_shots_player[df_shots_player[\"Shot_Type\"] == \"mid-range\"].shape[0] == 288"
   ]
  },
  {
   "cell_type": "markdown",
   "metadata": {
    "deletable": false,
    "editable": false,
    "nbgrader": {
     "checksum": "b86af908c3641595d8d204755509c524",
     "grade": false,
     "grade_id": "cell-25548f70e5984803",
     "locked": true,
     "schema_version": 1,
     "solution": false
    }
   },
   "source": [
    "## Problem 4\n",
    "You need to implement a function to compute the player's field goal percentage for each month and for each type of shot. Only look at months where he took at least 30 shots in each category. The function should return a dataframe for \"stephen curry\" as the follows:\n",
    "\n",
    "<img src=\"Data/dataframe.png\" width=400>"
   ]
  },
  {
   "cell_type": "code",
   "execution_count": 80,
   "metadata": {
    "deletable": false,
    "nbgrader": {
     "checksum": "bdc444e56d243e6baee8c01081ae385c",
     "grade": false,
     "grade_id": "cell-72cf7018f4d695a2",
     "locked": false,
     "schema_version": 1,
     "solution": true
    }
   },
   "outputs": [],
   "source": [
    "def ComputeGoalType(df_shots_player):\n",
    "    FG_perc_by_month = None\n",
    "    \n",
    "    # YOUR CODE HERE\n",
    "    months = []\n",
    "    perc_3_point = []\n",
    "    perc_mid = []\n",
    "    perc_short = []\n",
    "    for i in range(1,13):\n",
    "        month_i_short = df_shots_player[(df_shots_player[\"Month\"]==i) & (df_shots_player[\"Shot_Type\"]==\"short\")]\n",
    "        month_i_mid = df_shots_player[(df_shots_player[\"Month\"]==i) & (df_shots_player[\"Shot_Type\"]==\"mid-range\")]\n",
    "        month_i_3_point = df_shots_player[(df_shots_player[\"Month\"]==i) & (df_shots_player[\"Shot_Type\"]==\"3-pointer\")]\n",
    "        if(month_i_3_point.shape[0]>=30 and month_i_mid.shape[0]>=30 and month_i_short.shape[0]>=30):\n",
    "            months.append(i)\n",
    "            perc_3_point.append(month_i_3_point[month_i_3_point.SHOT_RESULT == \"made\"].shape[0]/month_i_3_point.shape[0])\n",
    "            perc_mid.append(month_i_mid[month_i_mid.SHOT_RESULT == \"made\"].shape[0]/month_i_mid.shape[0])\n",
    "            perc_short.append(month_i_short[month_i_short.SHOT_RESULT == \"made\"].shape[0]/month_i_short.shape[0])\n",
    "\n",
    "    d={\"Month\":months, '3-pointer':perc_3_point, 'mid-range':perc_mid, 'short':perc_short}\n",
    "    FG_perc_by_month=pd.DataFrame(data=d)\n",
    "    \n",
    "    \n",
    "    \n",
    "    return FG_perc_by_month"
   ]
  },
  {
   "cell_type": "code",
   "execution_count": 81,
   "metadata": {
    "deletable": false,
    "editable": false,
    "nbgrader": {
     "checksum": "482d0abc72711a9adabe8f5f473aa5d3",
     "grade": true,
     "grade_id": "cell-06c7dc215450e8bd",
     "locked": true,
     "points": 25,
     "schema_version": 1,
     "solution": false
    }
   },
   "outputs": [],
   "source": [
    "df_shots_player = GetPlayerData(\"stephen curry\")\n",
    "df_shots_player = AddMonth(df_shots_player)\n",
    "df_shots_player = AddShotType(df_shots_player)\n",
    "FG_perc_by_month = ComputeGoalType(df_shots_player)\n",
    "assert [round(x, 2) for x in FG_perc_by_month[\"3-pointer\"].tolist()] == [0.41, 0.47, 0.43, 0.35]\n",
    "assert [round(x, 2) for x in FG_perc_by_month[\"short\"].tolist()] == [0.65, 0.65, 0.65, 0.70]"
   ]
  }
 ],
 "metadata": {
  "kernelspec": {
   "display_name": "Python 3",
   "language": "python",
   "name": "python3"
  },
  "language_info": {
   "codemirror_mode": {
    "name": "ipython",
    "version": 3
   },
   "file_extension": ".py",
   "mimetype": "text/x-python",
   "name": "python",
   "nbconvert_exporter": "python",
   "pygments_lexer": "ipython3",
   "version": "3.8.8"
  },
  "toc": {
   "colors": {
    "hover_highlight": "#DAA520",
    "navigate_num": "#000000",
    "navigate_text": "#333333",
    "running_highlight": "#FF0000",
    "selected_highlight": "#FFD700",
    "sidebar_border": "#EEEEEE",
    "wrapper_background": "#FFFFFF"
   },
   "moveMenuLeft": true,
   "nav_menu": {
    "height": "30px",
    "width": "252px"
   },
   "navigate_menu": true,
   "number_sections": true,
   "sideBar": true,
   "skip_h1_title": false,
   "threshold": 4,
   "toc_cell": false,
   "toc_position": {},
   "toc_section_display": "block",
   "toc_window_display": false,
   "widenNotebook": false
  }
 },
 "nbformat": 4,
 "nbformat_minor": 2
}
