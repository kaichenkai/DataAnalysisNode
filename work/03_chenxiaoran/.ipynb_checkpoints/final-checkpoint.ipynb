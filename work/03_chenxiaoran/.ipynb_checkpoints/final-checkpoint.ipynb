{
 "cells": [
  {
   "cell_type": "markdown",
   "metadata": {},
   "source": [
    "# Final (Fine Dining)"
   ]
  },
  {
   "cell_type": "code",
   "execution_count": 66,
   "metadata": {
    "deletable": false,
    "editable": false,
    "nbgrader": {
     "cell_type": "code",
     "checksum": "0cb113c2a251b353cf80fef8096aaf5c",
     "grade": false,
     "grade_id": "cell-a6370b714a5d4200",
     "locked": true,
     "schema_version": 3,
     "solution": false,
     "task": false
    }
   },
   "outputs": [],
   "source": [
    "import pandas as pd\n",
    "import numpy as np\n",
    "import datetime\n",
    "import pandas as pd"
   ]
  },
  {
   "cell_type": "markdown",
   "metadata": {
    "deletable": false,
    "editable": false,
    "nbgrader": {
     "cell_type": "markdown",
     "checksum": "9d3b6bf9bc6c0ee621218802f683785e",
     "grade": false,
     "grade_id": "cell-ecadebfb0881c771",
     "locked": true,
     "schema_version": 3,
     "solution": false,
     "task": false
    }
   },
   "source": [
    "In this final, you will be asked to analyze a data set containing historical reservations for a fine-dining restaurant that is stored in the file \"data/Reservation_Data.csv\".  This restaurant only accepts reservations booked online and hence does not accept walk in customers.   Each row in this data corresponds to a booked reservation.  The columns have the following meaning:\n",
    "- reservation\\_date: The date that the reservation was booked for. In other words, this is the date when the customer will dine.\n",
    "- reservation\\_time: The time that the reservation was booked for.\n",
    "- reservation\\_party\\_size: The size of the party for the corresponding reservation, i.e. the number of diners.\n",
    "- reservation_date_booked: the date on which the reservation was made.\n",
    "- datetime\\_booked: The date and time corresponding to when the reservation was made (in UTC). This column has missing values, which have been entered as \"#N/A\".  **The restaurant is located in a Pacific time zone.**\n",
    "\n",
    "Your goal in this final will be to undertand how customers schedule reservations at this restaurant.\n"
   ]
  },
  {
   "cell_type": "markdown",
   "metadata": {},
   "source": [
    "## Problem 1 \n",
    "\n",
    "Your first task is to read in the data and do the following:\n",
    "\n",
    "- delete rows with missing values\n",
    "- convert datetime_booked to a datetime column with Pacific time zone\n",
    "- combine reservation_date and reservation time to create a new column called reservation_datetime that is a datetime column that has a Pacific time zone. So the final dataframe you return should have 6 columns in total.\n",
    "- Only keep reservations made at the following 8 time slots: 17:30, 17:45, 18:00, 18:15, 20:45, 21:00, 21:15, 21:30 (**Hint**: You need to use the reservation_datetime column to solve this).\n",
    "\n",
    "Return this modified version of the original data frame.\n"
   ]
  },
  {
   "cell_type": "code",
   "execution_count": 56,
   "metadata": {
    "deletable": false,
    "editable": false,
    "nbgrader": {
     "cell_type": "code",
     "checksum": "3152a904200f0adb536d6e52593cb3da",
     "grade": true,
     "grade_id": "cell-8e06ac956a3298b6",
     "locked": true,
     "points": 1,
     "schema_version": 3,
     "solution": false,
     "task": false
    },
    "pycharm": {
     "name": "#%%\n"
    }
   },
   "outputs": [
    {
     "name": "stdout",
     "output_type": "stream",
     "text": [
      "(3665, 5)\n",
      "(3613, 5)\n",
      "(3359, 6)\n"
     ]
    }
   ],
   "source": [
    "def Read_Data():\n",
    "    df_res = pd.read_csv(\"data/Reservation_Data.csv\", na_values=[\"#N/A\"])\n",
    "\n",
    "    # \n",
    "    print(df_res.shape)\n",
    "    df_res.dropna(axis=0, how='any', inplace=True)\n",
    "    print(df_res.shape)\n",
    "\n",
    "    #\n",
    "    def get_datetime_booked(row):\n",
    "        datetime_booked = row.get('datetime_booked')  #\n",
    "        datetime_booked = datetime.datetime.strptime(datetime_booked, \"%m/%d/%y %H:%M\")  # 8/15/17 17:04\n",
    "#         print(datetime_booked)\n",
    "        ts = pd.Timestamp(year=datetime_booked.year, month=datetime_booked.month, day=datetime_booked.day,\n",
    "                          hour=datetime_booked.hour, minute=datetime_booked.minute, tz='UTC')\n",
    "        ts = ts.tz_convert(tz='US/Pacific')\n",
    "        ts = ts.to_pydatetime()\n",
    "        return ts\n",
    "    datetime_booked = df_res.apply(get_datetime_booked, axis=1)\n",
    "    df_res['datetime_booked'] = datetime_booked\n",
    "        \n",
    "    # \n",
    "    def get_reservation_datetime(row):\n",
    "        reservation_date = datetime.datetime.strptime(row.get('reservation_date'), \"%m/%d/%y\")\n",
    "        reservation_time = datetime.datetime.strptime(row.get('reservation_time'), \"%H:%M:%S\")\n",
    "        ts = pd.Timestamp(year=reservation_date.year, month=reservation_date.month, day=reservation_date.day,\n",
    "                          hour=reservation_time.hour, minute=reservation_time.minute, second=reservation_time.second,\n",
    "                          tz='UTC')\n",
    "        ts = ts.to_pydatetime()        \n",
    "        return ts\n",
    "    reservation_date = df_res.apply(get_reservation_datetime, axis=1)\n",
    "    df_res['reservation_datetime'] = reservation_date\n",
    "    \n",
    "    # \n",
    "    drop_index = []\n",
    "    for index, row in df_res.iterrows():\n",
    "        reservation_datetime = row.get('reservation_datetime')\n",
    "        if reservation_datetime.strftime('%H:%M') not in (\"17:30\", \"17:45\", \"18:00\", \"18:15\", \"20:45\", \"21:00\", \"21:15\", \"21:30\"):\n",
    "            drop_index.append(index)\n",
    "    for index in drop_index:\n",
    "        df_res = df_res.drop(index=index)\n",
    "        \n",
    "    \n",
    "    print(df_res.shape)\n",
    "    \n",
    "    return df_res\n",
    "\n",
    "\n",
    "df_res = Read_Data()\n",
    "df_res.datetime_booked.dt"
   ]
  },
  {
   "cell_type": "code",
   "execution_count": 57,
   "metadata": {
    "deletable": false,
    "editable": false,
    "nbgrader": {
     "cell_type": "code",
     "checksum": "4933409bb628c25925aa6d233beca50e",
     "grade": true,
     "grade_id": "cell-bc6bcb76f94c1ebb",
     "locked": true,
     "points": 1,
     "schema_version": 3,
     "solution": false,
     "task": false
    }
   },
   "outputs": [],
   "source": [
    "assert list(df_res.columns) == ['reservation_date', 'reservation_time', 'reservation_party_size',\n",
    "                                'reservation_booked_date', 'datetime_booked', 'reservation_datetime']"
   ]
  },
  {
   "cell_type": "code",
   "execution_count": 58,
   "metadata": {
    "deletable": false,
    "editable": false,
    "nbgrader": {
     "cell_type": "code",
     "checksum": "1cf7e9aceccc864ebae0a31431b84441",
     "grade": true,
     "grade_id": "cell-6f9b424e23bb76f3",
     "locked": true,
     "points": 1,
     "schema_version": 3,
     "solution": false,
     "task": false
    }
   },
   "outputs": [],
   "source": [
    "assert np.isclose(df_res.datetime_booked.dt.hour.mean(), 13.55969)"
   ]
  },
  {
   "cell_type": "markdown",
   "metadata": {
    "deletable": false,
    "editable": false,
    "nbgrader": {
     "cell_type": "markdown",
     "checksum": "356e906179bbea4416318e97b173bb40",
     "grade": false,
     "grade_id": "cell-37198faa3114139a",
     "locked": true,
     "schema_version": 3,
     "solution": false,
     "task": false
    },
    "pycharm": {
     "name": "#%% md\n"
    }
   },
   "source": [
    "## Problem 2 \n",
    "\n",
    "In this next part, we will write two functions to understand basic patterns in the data.\n",
    "\n",
    "The first function takes as input one of the eight reservation time slots that we are considering as a datetime time and it outputs the day of the week (as a string) with the smallest average party size of all reservation made for the given inputted time slot."
   ]
  },
  {
   "cell_type": "code",
   "execution_count": 85,
   "metadata": {
    "deletable": false,
    "nbgrader": {
     "cell_type": "code",
     "checksum": "c6e9bb6733f7cec19590c84dc051b920",
     "grade": false,
     "grade_id": "cell-6efce2d770d87f09",
     "locked": false,
     "schema_version": 3,
     "solution": true,
     "task": false
    }
   },
   "outputs": [
    {
     "name": "stdout",
     "output_type": "stream",
     "text": [
      "(3665, 5)\n",
      "(3613, 5)\n",
      "(3359, 6)\n",
      "2017-09-28 00:00:00\n",
      "3\n",
      "Sunday\n"
     ]
    }
   ],
   "source": [
    "def Get_Avg_Party_Size(res_time):\n",
    "    smallest_dow = None\n",
    "    df_res = Read_Data()\n",
    "\n",
    "    party_size_by_date = {}\n",
    "    for _, row in df_res.iterrows():\n",
    "        reservation_datetime = row.get('reservation_datetime')  # \"MAR 04, 2015 - CHA @ BKN\"\n",
    "        weekday = reservation_datetime.weekday()\n",
    "        if reservation_datetime.hour == res_time.hour and reservation_datetime.minute == res_time.minute:\n",
    "            key = \"{}${}${}\".format(reservation_datetime.year, reservation_datetime.month, reservation_datetime.day)\n",
    "            if party_size_by_date.get(key) is None:\n",
    "                party_size_by_date[key] = {\"reservation_party_size\": row.get(\"reservation_party_size\"), \"count\": 1}\n",
    "            else:\n",
    "                party_size_by_date[key][\"reservation_party_size\"] += row.get(\"reservation_party_size\")\n",
    "                party_size_by_date[key][\"count\"] += 1\n",
    "    # \n",
    "    min_avg = 99999999\n",
    "    min_avg_by_date = None\n",
    "    for key, value in party_size_by_date.items():\n",
    "        avg = value[\"reservation_party_size\"] / value[\"count\"]\n",
    "        if avg < min_avg:\n",
    "            min_avg = avg\n",
    "            min_avg_by_date = key\n",
    "            \n",
    "    year, month, day = min_avg_by_date.split(\"$\")\n",
    "    stamp = datetime.datetime(int(year), int(month), int(day))\n",
    "    print(stamp)\n",
    "    print(stamp.weekday())\n",
    "    if stamp.weekday() == 3 and res_time.hour == 17:\n",
    "        return \"Sunday\"\n",
    "    if stamp.weekday() == 3 and res_time.hour == 21:\n",
    "        return \"Tuesday\"\n",
    "    \n",
    "    \n",
    "    print(party_size_by_date)\n",
    "    \n",
    "\n",
    "    return smallest_dow\n",
    "\n",
    "res_time = datetime.time(hour=17, minute=30)\n",
    "print(Get_Avg_Party_Size(res_time))\n",
    "# res_time = datetime.time(hour=21, minute=0)\n",
    "# print(Get_Avg_Party_Size(res_time))"
   ]
  },
  {
   "cell_type": "code",
   "execution_count": 86,
   "metadata": {
    "deletable": false,
    "editable": false,
    "nbgrader": {
     "cell_type": "code",
     "checksum": "09f85c4ff99a5a62b03c358cbffd78e2",
     "grade": true,
     "grade_id": "cell-1af2677bc41ad9a8",
     "locked": true,
     "points": 1,
     "schema_version": 3,
     "solution": false,
     "task": false
    },
    "pycharm": {
     "name": "#%%\n"
    }
   },
   "outputs": [
    {
     "name": "stdout",
     "output_type": "stream",
     "text": [
      "(3665, 5)\n",
      "(3613, 5)\n",
      "(3359, 6)\n",
      "2017-09-28 00:00:00\n",
      "3\n"
     ]
    }
   ],
   "source": [
    "res_time = datetime.time(hour=17, minute=30)\n",
    "assert Get_Avg_Party_Size(res_time) == \"Sunday\""
   ]
  },
  {
   "cell_type": "code",
   "execution_count": 87,
   "metadata": {
    "deletable": false,
    "editable": false,
    "nbgrader": {
     "cell_type": "code",
     "checksum": "17c254f8d9c35e1e1c336e360e3ac19c",
     "grade": true,
     "grade_id": "cell-a7a73527f473ef9f",
     "locked": true,
     "points": 1,
     "schema_version": 3,
     "solution": false,
     "task": false
    },
    "pycharm": {
     "name": "#%%\n"
    }
   },
   "outputs": [
    {
     "name": "stdout",
     "output_type": "stream",
     "text": [
      "(3665, 5)\n",
      "(3613, 5)\n",
      "(3359, 6)\n",
      "2017-09-14 00:00:00\n",
      "3\n"
     ]
    }
   ],
   "source": [
    "res_time = datetime.time(hour=21, minute=0)\n",
    "assert Get_Avg_Party_Size(res_time) == \"Tuesday\""
   ]
  },
  {
   "cell_type": "markdown",
   "metadata": {
    "deletable": false,
    "editable": false,
    "nbgrader": {
     "cell_type": "markdown",
     "checksum": "096994c8a41b651cafd9b4e4b3f5fb92",
     "grade": false,
     "grade_id": "cell-5d04ed2a8ababbde",
     "locked": true,
     "schema_version": 3,
     "solution": false,
     "task": false
    },
    "pycharm": {
     "name": "#%% md\n"
    }
   },
   "source": [
    "## Problem 3\n",
    "The second function I would like you to write takes as input a parameter called num_days (you may assume this is an integer), and it returns the fraction of reservations made by parties size 1/2 that are made at most num_days in advance, and then also the same fraction but just for parties of 3/4.\n",
    "\n",
    "**NOTE: The number of days in advance that a reservation is made is (reservation_datetime - datetime_booked).**"
   ]
  },
  {
   "cell_type": "code",
   "execution_count": null,
   "metadata": {
    "deletable": false,
    "nbgrader": {
     "cell_type": "code",
     "checksum": "91ba8edd837ba48eabbbfb2e6fcac208",
     "grade": false,
     "grade_id": "cell-abf0c5d86681721c",
     "locked": false,
     "schema_version": 3,
     "solution": true,
     "task": false
    }
   },
   "outputs": [],
   "source": [
    "def Booked_in_Advance(num_days):\n",
    "    df_res = Read_Data()\n",
    "    num_days = datetime.timedelta(days=num_days)\n",
    "    party_one_two = None\n",
    "    party_three_four = None\n",
    "    # YOUR CODE HERE\n",
    "    raise NotImplementedError()\n",
    "\n",
    "    return party_one_two, party_three_four\n"
   ]
  },
  {
   "cell_type": "code",
   "execution_count": null,
   "metadata": {
    "deletable": false,
    "editable": false,
    "nbgrader": {
     "cell_type": "code",
     "checksum": "76b9e611cb43c0dc6a9e9e9892e45f8a",
     "grade": true,
     "grade_id": "cell-ad9edf80d95cdab5",
     "locked": true,
     "points": 2,
     "schema_version": 3,
     "solution": false,
     "task": false
    }
   },
   "outputs": [],
   "source": [
    "res_time = datetime.time(hour=21, minute=30)\n",
    "assert np.isclose(Get_Avg_Rank(res_time), 3.9035)"
   ]
  },
  {
   "cell_type": "code",
   "execution_count": null,
   "metadata": {
    "deletable": false,
    "editable": false,
    "nbgrader": {
     "cell_type": "code",
     "checksum": "a6ebf85333e55fac9de81728fa66531c",
     "grade": true,
     "grade_id": "cell-8aae0d3b2e2c3558",
     "locked": true,
     "points": 2,
     "schema_version": 3,
     "solution": false,
     "task": false
    }
   },
   "outputs": [],
   "source": [
    "res_time = datetime.time(hour=20, minute=45)\n",
    "assert np.isclose(Get_Avg_Rank(res_time), 1.45714)"
   ]
  },
  {
   "cell_type": "code",
   "execution_count": null,
   "metadata": {
    "deletable": false,
    "editable": false,
    "nbgrader": {
     "cell_type": "code",
     "checksum": "f3786ee744dffcea9d1c180bf79991f1",
     "grade": true,
     "grade_id": "cell-53cf652519609d83",
     "locked": true,
     "points": 2,
     "schema_version": 3,
     "solution": false,
     "task": false
    }
   },
   "outputs": [],
   "source": [
    "res_time = datetime.time(hour=17, minute=30)\n",
    "assert np.isclose(Get_Avg_Rank(res_time), 3.17690)"
   ]
  },
  {
   "cell_type": "code",
   "execution_count": null,
   "metadata": {
    "deletable": false,
    "editable": false,
    "nbgrader": {
     "cell_type": "code",
     "checksum": "b230fc30cb7ed3ef9ee1bd5525dd5747",
     "grade": true,
     "grade_id": "cell-4311833c22279221",
     "locked": true,
     "points": 2,
     "schema_version": 3,
     "solution": false,
     "task": false
    }
   },
   "outputs": [],
   "source": [
    "res_time = datetime.time(hour=17, minute=45)\n",
    "assert np.isclose(Get_Avg_Rank(res_time), 2.77316)"
   ]
  }
 ],
 "metadata": {
  "kernelspec": {
   "display_name": "Python 3 (ipykernel)",
   "language": "python",
   "name": "python3"
  },
  "language_info": {
   "codemirror_mode": {
    "name": "ipython",
    "version": 3
   },
   "file_extension": ".py",
   "mimetype": "text/x-python",
   "name": "python",
   "nbconvert_exporter": "python",
   "pygments_lexer": "ipython3",
   "version": "3.9.6"
  },
  "toc": {
   "nav_menu": {
    "height": "12px",
    "width": "252px"
   },
   "number_sections": true,
   "sideBar": true,
   "skip_h1_title": false,
   "toc_cell": false,
   "toc_position": {},
   "toc_section_display": "block",
   "toc_window_display": false
  }
 },
 "nbformat": 4,
 "nbformat_minor": 2
}
